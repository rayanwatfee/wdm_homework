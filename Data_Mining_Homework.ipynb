{
 "cells": [
  {
   "cell_type": "markdown",
   "metadata": {},
   "source": [
    "#               Web Science Data Mining Homework\n",
    "\n",
    "\n",
    "- we have a dataset about cars and we want to use data minig algorithms to build a model to classify the types of  the cars in    the data set:\n",
    "\n",
    "- to achieve  that we will do the following\n",
    "\n",
    "     * preprocessing the data :\n",
    "     \n",
    "        - handling missing data\n",
    "        - converting the categorical data into numerical\n",
    "        - splitting the data into train and test\n",
    "\n",
    "     * build the calssification model :\n",
    "    \n",
    "        - build logistic regression model\n",
    "        - bulid decision tree model\n",
    "        - build naive byes model\n",
    "         \n",
    "     * evaluating the model:\n",
    "     \n",
    "        - view the evaaluation metrics like precion ,recall acuuracy and f-score\n",
    "        - plot the roc curve\n",
    "        - compare the metrics of the models and choose the best one \n",
    "  \n"
   ]
  },
  {
   "cell_type": "code",
   "execution_count": 1,
   "metadata": {},
   "outputs": [],
   "source": [
    "# loading the packages\n",
    "import pandas as pd\n",
    "import numpy as np\n",
    "import  matplotlib.pyplot as plt\n",
    "import seaborn as sns"
   ]
  },
  {
   "cell_type": "code",
   "execution_count": null,
   "metadata": {},
   "outputs": [],
   "source": [
    "# loading the data\n",
    "raw_data=pd.read_csv(r'vehicles.csv')\n"
   ]
  },
  {
   "cell_type": "code",
   "execution_count": 4,
   "metadata": {},
   "outputs": [
    {
     "name": "stdout",
     "output_type": "stream",
     "text": [
      "<class 'pandas.core.frame.DataFrame'>\n",
      "RangeIndex: 426880 entries, 0 to 426879\n",
      "Data columns (total 26 columns):\n",
      " #   Column        Non-Null Count   Dtype  \n",
      "---  ------        --------------   -----  \n",
      " 0   id            426880 non-null  int64  \n",
      " 1   url           426880 non-null  object \n",
      " 2   region        426880 non-null  object \n",
      " 3   region_url    426880 non-null  object \n",
      " 4   price         426880 non-null  int64  \n",
      " 5   year          425675 non-null  float64\n",
      " 6   manufacturer  409234 non-null  object \n",
      " 7   model         421603 non-null  object \n",
      " 8   condition     252776 non-null  object \n",
      " 9   cylinders     249202 non-null  object \n",
      " 10  fuel          423867 non-null  object \n",
      " 11  odometer      422480 non-null  float64\n",
      " 12  title_status  418638 non-null  object \n",
      " 13  transmission  424324 non-null  object \n",
      " 14  VIN           265838 non-null  object \n",
      " 15  drive         296313 non-null  object \n",
      " 16  size          120519 non-null  object \n",
      " 17  type          334022 non-null  object \n",
      " 18  paint_color   296677 non-null  object \n",
      " 19  image_url     426812 non-null  object \n",
      " 20  description   426810 non-null  object \n",
      " 21  county        0 non-null       float64\n",
      " 22  state         426880 non-null  object \n",
      " 23  lat           420331 non-null  float64\n",
      " 24  long          420331 non-null  float64\n",
      " 25  posting_date  426812 non-null  object \n",
      "dtypes: float64(5), int64(2), object(19)\n",
      "memory usage: 84.7+ MB\n"
     ]
    }
   ],
   "source": [
    "# view the information of the data\n",
    "raw_data.info()"
   ]
  },
  {
   "cell_type": "code",
   "execution_count": 5,
   "metadata": {},
   "outputs": [
    {
     "data": {
      "text/html": [
       "<div>\n",
       "<style scoped>\n",
       "    .dataframe tbody tr th:only-of-type {\n",
       "        vertical-align: middle;\n",
       "    }\n",
       "\n",
       "    .dataframe tbody tr th {\n",
       "        vertical-align: top;\n",
       "    }\n",
       "\n",
       "    .dataframe thead th {\n",
       "        text-align: right;\n",
       "    }\n",
       "</style>\n",
       "<table border=\"1\" class=\"dataframe\">\n",
       "  <thead>\n",
       "    <tr style=\"text-align: right;\">\n",
       "      <th></th>\n",
       "      <th>id</th>\n",
       "      <th>url</th>\n",
       "      <th>region</th>\n",
       "      <th>region_url</th>\n",
       "      <th>price</th>\n",
       "      <th>year</th>\n",
       "      <th>manufacturer</th>\n",
       "      <th>model</th>\n",
       "      <th>condition</th>\n",
       "      <th>cylinders</th>\n",
       "      <th>...</th>\n",
       "      <th>size</th>\n",
       "      <th>type</th>\n",
       "      <th>paint_color</th>\n",
       "      <th>image_url</th>\n",
       "      <th>description</th>\n",
       "      <th>county</th>\n",
       "      <th>state</th>\n",
       "      <th>lat</th>\n",
       "      <th>long</th>\n",
       "      <th>posting_date</th>\n",
       "    </tr>\n",
       "  </thead>\n",
       "  <tbody>\n",
       "    <tr>\n",
       "      <th>0</th>\n",
       "      <td>7222695916</td>\n",
       "      <td>https://prescott.craigslist.org/cto/d/prescott...</td>\n",
       "      <td>prescott</td>\n",
       "      <td>https://prescott.craigslist.org</td>\n",
       "      <td>6000</td>\n",
       "      <td>NaN</td>\n",
       "      <td>NaN</td>\n",
       "      <td>NaN</td>\n",
       "      <td>NaN</td>\n",
       "      <td>NaN</td>\n",
       "      <td>...</td>\n",
       "      <td>NaN</td>\n",
       "      <td>NaN</td>\n",
       "      <td>NaN</td>\n",
       "      <td>NaN</td>\n",
       "      <td>NaN</td>\n",
       "      <td>NaN</td>\n",
       "      <td>az</td>\n",
       "      <td>NaN</td>\n",
       "      <td>NaN</td>\n",
       "      <td>NaN</td>\n",
       "    </tr>\n",
       "    <tr>\n",
       "      <th>1</th>\n",
       "      <td>7218891961</td>\n",
       "      <td>https://fayar.craigslist.org/ctd/d/bentonville...</td>\n",
       "      <td>fayetteville</td>\n",
       "      <td>https://fayar.craigslist.org</td>\n",
       "      <td>11900</td>\n",
       "      <td>NaN</td>\n",
       "      <td>NaN</td>\n",
       "      <td>NaN</td>\n",
       "      <td>NaN</td>\n",
       "      <td>NaN</td>\n",
       "      <td>...</td>\n",
       "      <td>NaN</td>\n",
       "      <td>NaN</td>\n",
       "      <td>NaN</td>\n",
       "      <td>NaN</td>\n",
       "      <td>NaN</td>\n",
       "      <td>NaN</td>\n",
       "      <td>ar</td>\n",
       "      <td>NaN</td>\n",
       "      <td>NaN</td>\n",
       "      <td>NaN</td>\n",
       "    </tr>\n",
       "    <tr>\n",
       "      <th>2</th>\n",
       "      <td>7221797935</td>\n",
       "      <td>https://keys.craigslist.org/cto/d/summerland-k...</td>\n",
       "      <td>florida keys</td>\n",
       "      <td>https://keys.craigslist.org</td>\n",
       "      <td>21000</td>\n",
       "      <td>NaN</td>\n",
       "      <td>NaN</td>\n",
       "      <td>NaN</td>\n",
       "      <td>NaN</td>\n",
       "      <td>NaN</td>\n",
       "      <td>...</td>\n",
       "      <td>NaN</td>\n",
       "      <td>NaN</td>\n",
       "      <td>NaN</td>\n",
       "      <td>NaN</td>\n",
       "      <td>NaN</td>\n",
       "      <td>NaN</td>\n",
       "      <td>fl</td>\n",
       "      <td>NaN</td>\n",
       "      <td>NaN</td>\n",
       "      <td>NaN</td>\n",
       "    </tr>\n",
       "    <tr>\n",
       "      <th>3</th>\n",
       "      <td>7222270760</td>\n",
       "      <td>https://worcester.craigslist.org/cto/d/west-br...</td>\n",
       "      <td>worcester / central MA</td>\n",
       "      <td>https://worcester.craigslist.org</td>\n",
       "      <td>1500</td>\n",
       "      <td>NaN</td>\n",
       "      <td>NaN</td>\n",
       "      <td>NaN</td>\n",
       "      <td>NaN</td>\n",
       "      <td>NaN</td>\n",
       "      <td>...</td>\n",
       "      <td>NaN</td>\n",
       "      <td>NaN</td>\n",
       "      <td>NaN</td>\n",
       "      <td>NaN</td>\n",
       "      <td>NaN</td>\n",
       "      <td>NaN</td>\n",
       "      <td>ma</td>\n",
       "      <td>NaN</td>\n",
       "      <td>NaN</td>\n",
       "      <td>NaN</td>\n",
       "    </tr>\n",
       "    <tr>\n",
       "      <th>4</th>\n",
       "      <td>7210384030</td>\n",
       "      <td>https://greensboro.craigslist.org/cto/d/trinit...</td>\n",
       "      <td>greensboro</td>\n",
       "      <td>https://greensboro.craigslist.org</td>\n",
       "      <td>4900</td>\n",
       "      <td>NaN</td>\n",
       "      <td>NaN</td>\n",
       "      <td>NaN</td>\n",
       "      <td>NaN</td>\n",
       "      <td>NaN</td>\n",
       "      <td>...</td>\n",
       "      <td>NaN</td>\n",
       "      <td>NaN</td>\n",
       "      <td>NaN</td>\n",
       "      <td>NaN</td>\n",
       "      <td>NaN</td>\n",
       "      <td>NaN</td>\n",
       "      <td>nc</td>\n",
       "      <td>NaN</td>\n",
       "      <td>NaN</td>\n",
       "      <td>NaN</td>\n",
       "    </tr>\n",
       "    <tr>\n",
       "      <th>5</th>\n",
       "      <td>7222379453</td>\n",
       "      <td>https://hudsonvalley.craigslist.org/cto/d/west...</td>\n",
       "      <td>hudson valley</td>\n",
       "      <td>https://hudsonvalley.craigslist.org</td>\n",
       "      <td>1600</td>\n",
       "      <td>NaN</td>\n",
       "      <td>NaN</td>\n",
       "      <td>NaN</td>\n",
       "      <td>NaN</td>\n",
       "      <td>NaN</td>\n",
       "      <td>...</td>\n",
       "      <td>NaN</td>\n",
       "      <td>NaN</td>\n",
       "      <td>NaN</td>\n",
       "      <td>NaN</td>\n",
       "      <td>NaN</td>\n",
       "      <td>NaN</td>\n",
       "      <td>ny</td>\n",
       "      <td>NaN</td>\n",
       "      <td>NaN</td>\n",
       "      <td>NaN</td>\n",
       "    </tr>\n",
       "    <tr>\n",
       "      <th>6</th>\n",
       "      <td>7221952215</td>\n",
       "      <td>https://hudsonvalley.craigslist.org/cto/d/west...</td>\n",
       "      <td>hudson valley</td>\n",
       "      <td>https://hudsonvalley.craigslist.org</td>\n",
       "      <td>1000</td>\n",
       "      <td>NaN</td>\n",
       "      <td>NaN</td>\n",
       "      <td>NaN</td>\n",
       "      <td>NaN</td>\n",
       "      <td>NaN</td>\n",
       "      <td>...</td>\n",
       "      <td>NaN</td>\n",
       "      <td>NaN</td>\n",
       "      <td>NaN</td>\n",
       "      <td>NaN</td>\n",
       "      <td>NaN</td>\n",
       "      <td>NaN</td>\n",
       "      <td>ny</td>\n",
       "      <td>NaN</td>\n",
       "      <td>NaN</td>\n",
       "      <td>NaN</td>\n",
       "    </tr>\n",
       "    <tr>\n",
       "      <th>7</th>\n",
       "      <td>7220195662</td>\n",
       "      <td>https://hudsonvalley.craigslist.org/cto/d/poug...</td>\n",
       "      <td>hudson valley</td>\n",
       "      <td>https://hudsonvalley.craigslist.org</td>\n",
       "      <td>15995</td>\n",
       "      <td>NaN</td>\n",
       "      <td>NaN</td>\n",
       "      <td>NaN</td>\n",
       "      <td>NaN</td>\n",
       "      <td>NaN</td>\n",
       "      <td>...</td>\n",
       "      <td>NaN</td>\n",
       "      <td>NaN</td>\n",
       "      <td>NaN</td>\n",
       "      <td>NaN</td>\n",
       "      <td>NaN</td>\n",
       "      <td>NaN</td>\n",
       "      <td>ny</td>\n",
       "      <td>NaN</td>\n",
       "      <td>NaN</td>\n",
       "      <td>NaN</td>\n",
       "    </tr>\n",
       "    <tr>\n",
       "      <th>8</th>\n",
       "      <td>7209064557</td>\n",
       "      <td>https://medford.craigslist.org/cto/d/grants-pa...</td>\n",
       "      <td>medford-ashland</td>\n",
       "      <td>https://medford.craigslist.org</td>\n",
       "      <td>5000</td>\n",
       "      <td>NaN</td>\n",
       "      <td>NaN</td>\n",
       "      <td>NaN</td>\n",
       "      <td>NaN</td>\n",
       "      <td>NaN</td>\n",
       "      <td>...</td>\n",
       "      <td>NaN</td>\n",
       "      <td>NaN</td>\n",
       "      <td>NaN</td>\n",
       "      <td>NaN</td>\n",
       "      <td>NaN</td>\n",
       "      <td>NaN</td>\n",
       "      <td>or</td>\n",
       "      <td>NaN</td>\n",
       "      <td>NaN</td>\n",
       "      <td>NaN</td>\n",
       "    </tr>\n",
       "    <tr>\n",
       "      <th>9</th>\n",
       "      <td>7219485069</td>\n",
       "      <td>https://erie.craigslist.org/cto/d/erie-2012-su...</td>\n",
       "      <td>erie</td>\n",
       "      <td>https://erie.craigslist.org</td>\n",
       "      <td>3000</td>\n",
       "      <td>NaN</td>\n",
       "      <td>NaN</td>\n",
       "      <td>NaN</td>\n",
       "      <td>NaN</td>\n",
       "      <td>NaN</td>\n",
       "      <td>...</td>\n",
       "      <td>NaN</td>\n",
       "      <td>NaN</td>\n",
       "      <td>NaN</td>\n",
       "      <td>NaN</td>\n",
       "      <td>NaN</td>\n",
       "      <td>NaN</td>\n",
       "      <td>pa</td>\n",
       "      <td>NaN</td>\n",
       "      <td>NaN</td>\n",
       "      <td>NaN</td>\n",
       "    </tr>\n",
       "  </tbody>\n",
       "</table>\n",
       "<p>10 rows × 26 columns</p>\n",
       "</div>"
      ],
      "text/plain": [
       "           id                                                url  \\\n",
       "0  7222695916  https://prescott.craigslist.org/cto/d/prescott...   \n",
       "1  7218891961  https://fayar.craigslist.org/ctd/d/bentonville...   \n",
       "2  7221797935  https://keys.craigslist.org/cto/d/summerland-k...   \n",
       "3  7222270760  https://worcester.craigslist.org/cto/d/west-br...   \n",
       "4  7210384030  https://greensboro.craigslist.org/cto/d/trinit...   \n",
       "5  7222379453  https://hudsonvalley.craigslist.org/cto/d/west...   \n",
       "6  7221952215  https://hudsonvalley.craigslist.org/cto/d/west...   \n",
       "7  7220195662  https://hudsonvalley.craigslist.org/cto/d/poug...   \n",
       "8  7209064557  https://medford.craigslist.org/cto/d/grants-pa...   \n",
       "9  7219485069  https://erie.craigslist.org/cto/d/erie-2012-su...   \n",
       "\n",
       "                   region                           region_url  price  year  \\\n",
       "0                prescott      https://prescott.craigslist.org   6000   NaN   \n",
       "1            fayetteville         https://fayar.craigslist.org  11900   NaN   \n",
       "2            florida keys          https://keys.craigslist.org  21000   NaN   \n",
       "3  worcester / central MA     https://worcester.craigslist.org   1500   NaN   \n",
       "4              greensboro    https://greensboro.craigslist.org   4900   NaN   \n",
       "5           hudson valley  https://hudsonvalley.craigslist.org   1600   NaN   \n",
       "6           hudson valley  https://hudsonvalley.craigslist.org   1000   NaN   \n",
       "7           hudson valley  https://hudsonvalley.craigslist.org  15995   NaN   \n",
       "8         medford-ashland       https://medford.craigslist.org   5000   NaN   \n",
       "9                    erie          https://erie.craigslist.org   3000   NaN   \n",
       "\n",
       "  manufacturer model condition cylinders  ... size  type paint_color  \\\n",
       "0          NaN   NaN       NaN       NaN  ...  NaN   NaN         NaN   \n",
       "1          NaN   NaN       NaN       NaN  ...  NaN   NaN         NaN   \n",
       "2          NaN   NaN       NaN       NaN  ...  NaN   NaN         NaN   \n",
       "3          NaN   NaN       NaN       NaN  ...  NaN   NaN         NaN   \n",
       "4          NaN   NaN       NaN       NaN  ...  NaN   NaN         NaN   \n",
       "5          NaN   NaN       NaN       NaN  ...  NaN   NaN         NaN   \n",
       "6          NaN   NaN       NaN       NaN  ...  NaN   NaN         NaN   \n",
       "7          NaN   NaN       NaN       NaN  ...  NaN   NaN         NaN   \n",
       "8          NaN   NaN       NaN       NaN  ...  NaN   NaN         NaN   \n",
       "9          NaN   NaN       NaN       NaN  ...  NaN   NaN         NaN   \n",
       "\n",
       "  image_url description county state lat long posting_date  \n",
       "0       NaN         NaN    NaN    az NaN  NaN          NaN  \n",
       "1       NaN         NaN    NaN    ar NaN  NaN          NaN  \n",
       "2       NaN         NaN    NaN    fl NaN  NaN          NaN  \n",
       "3       NaN         NaN    NaN    ma NaN  NaN          NaN  \n",
       "4       NaN         NaN    NaN    nc NaN  NaN          NaN  \n",
       "5       NaN         NaN    NaN    ny NaN  NaN          NaN  \n",
       "6       NaN         NaN    NaN    ny NaN  NaN          NaN  \n",
       "7       NaN         NaN    NaN    ny NaN  NaN          NaN  \n",
       "8       NaN         NaN    NaN    or NaN  NaN          NaN  \n",
       "9       NaN         NaN    NaN    pa NaN  NaN          NaN  \n",
       "\n",
       "[10 rows x 26 columns]"
      ]
     },
     "execution_count": 5,
     "metadata": {},
     "output_type": "execute_result"
    }
   ],
   "source": [
    "# view the head of data\n",
    "raw_data.head(10)"
   ]
  },
  {
   "cell_type": "code",
   "execution_count": 35,
   "metadata": {},
   "outputs": [
    {
     "name": "stdout",
     "output_type": "stream",
     "text": [
      "<class 'pandas.core.frame.DataFrame'>\n",
      "RangeIndex: 426880 entries, 0 to 426879\n",
      "Data columns (total 26 columns):\n",
      " #   Column        Non-Null Count   Dtype  \n",
      "---  ------        --------------   -----  \n",
      " 0   id            426880 non-null  int64  \n",
      " 1   url           426880 non-null  object \n",
      " 2   region        426880 non-null  object \n",
      " 3   region_url    426880 non-null  object \n",
      " 4   price         426880 non-null  int64  \n",
      " 5   year          425675 non-null  float64\n",
      " 6   manufacturer  409234 non-null  object \n",
      " 7   model         421603 non-null  object \n",
      " 8   condition     252776 non-null  object \n",
      " 9   cylinders     249202 non-null  object \n",
      " 10  fuel          423867 non-null  object \n",
      " 11  odometer      422480 non-null  float64\n",
      " 12  title_status  418638 non-null  object \n",
      " 13  transmission  424324 non-null  object \n",
      " 14  VIN           265838 non-null  object \n",
      " 15  drive         296313 non-null  object \n",
      " 16  size          120519 non-null  object \n",
      " 17  type          334022 non-null  object \n",
      " 18  paint_color   296677 non-null  object \n",
      " 19  image_url     426812 non-null  object \n",
      " 20  description   426810 non-null  object \n",
      " 21  county        0 non-null       float64\n",
      " 22  state         426880 non-null  object \n",
      " 23  lat           420331 non-null  float64\n",
      " 24  long          420331 non-null  float64\n",
      " 25  posting_date  426812 non-null  object \n",
      "dtypes: float64(5), int64(2), object(19)\n",
      "memory usage: 84.7+ MB\n"
     ]
    }
   ],
   "source": [
    "# view the information about  the data\n",
    "raw_data.info()"
   ]
  },
  {
   "cell_type": "markdown",
   "metadata": {},
   "source": [
    "###### from the the cells above :\n",
    "we see that there are categorical data and numerical data\n",
    "there are missing values in some columns \n",
    "\n",
    "##### the first step : remove the features that has no effect on the target\n",
    "\n",
    "we will remove the columns that has no effect on the calssificaion\n",
    "\n",
    "these columns are general information and has no relationship with the type of the car so we remove them\n",
    "(id,url,region,region_url,posting_date,image_url,VIN,model,lat,long,description)"
   ]
  },
  {
   "cell_type": "code",
   "execution_count": 36,
   "metadata": {
    "scrolled": true
   },
   "outputs": [
    {
     "data": {
      "text/plain": [
       "Index(['price', 'year', 'manufacturer', 'condition', 'cylinders', 'fuel',\n",
       "       'odometer', 'transmission', 'drive', 'type', 'paint_color', 'state'],\n",
       "      dtype='object')"
      ]
     },
     "execution_count": 36,
     "metadata": {},
     "output_type": "execute_result"
    }
   ],
   "source": [
    "# remove the columns that we don't need\n",
    "data=raw_data.drop(['region','id','url','region_url','posting_date','image_url','VIN','model','lat','long','county','size','description','title_status'],axis=1)\n",
    "\n",
    "# view the columns \n",
    "data.columns"
   ]
  },
  {
   "cell_type": "code",
   "execution_count": 37,
   "metadata": {},
   "outputs": [
    {
     "name": "stdout",
     "output_type": "stream",
     "text": [
      "<class 'pandas.core.frame.DataFrame'>\n",
      "RangeIndex: 426880 entries, 0 to 426879\n",
      "Data columns (total 12 columns):\n",
      " #   Column        Non-Null Count   Dtype  \n",
      "---  ------        --------------   -----  \n",
      " 0   price         426880 non-null  int64  \n",
      " 1   year          425675 non-null  float64\n",
      " 2   manufacturer  409234 non-null  object \n",
      " 3   condition     252776 non-null  object \n",
      " 4   cylinders     249202 non-null  object \n",
      " 5   fuel          423867 non-null  object \n",
      " 6   odometer      422480 non-null  float64\n",
      " 7   transmission  424324 non-null  object \n",
      " 8   drive         296313 non-null  object \n",
      " 9   type          334022 non-null  object \n",
      " 10  paint_color   296677 non-null  object \n",
      " 11  state         426880 non-null  object \n",
      "dtypes: float64(2), int64(1), object(9)\n",
      "memory usage: 39.1+ MB\n"
     ]
    }
   ],
   "source": [
    "# the information about the data after deletion \n",
    "data.info()"
   ]
  },
  {
   "cell_type": "markdown",
   "metadata": {},
   "source": [
    "##                                          Hanling Missing Vlaues\n",
    "\n",
    "\n",
    "we want to classify the cars due to the type so the type column is the target column or we can say it is y column\n",
    "this column shouldn't has missing values and as it the target we cann't fill it because it is correlated with the other columns column.\n",
    "the 'type' column is the target column so if it has null value , that mean all the row shoul be deleted\n",
    "\n"
   ]
  },
  {
   "cell_type": "code",
   "execution_count": 38,
   "metadata": {},
   "outputs": [
    {
     "data": {
      "text/plain": [
       "price                0\n",
       "year              1205\n",
       "manufacturer     17646\n",
       "condition       174104\n",
       "cylinders       177678\n",
       "fuel              3013\n",
       "odometer          4400\n",
       "transmission      2556\n",
       "drive           130567\n",
       "type             92858\n",
       "paint_color     130203\n",
       "state                0\n",
       "dtype: int64"
      ]
     },
     "execution_count": 38,
     "metadata": {},
     "output_type": "execute_result"
    }
   ],
   "source": [
    "# the number of missing values in every column\n",
    "data.isnull().sum()"
   ]
  },
  {
   "cell_type": "code",
   "execution_count": 46,
   "metadata": {},
   "outputs": [
    {
     "data": {
      "text/plain": [
       "27           pickup\n",
       "28           pickup\n",
       "29           pickup\n",
       "30           pickup\n",
       "31            truck\n",
       "            ...    \n",
       "426875        sedan\n",
       "426876        sedan\n",
       "426877    hatchback\n",
       "426878        sedan\n",
       "426879        coupe\n",
       "Name: type, Length: 334022, dtype: object"
      ]
     },
     "execution_count": 46,
     "metadata": {},
     "output_type": "execute_result"
    }
   ],
   "source": [
    "# choose the data that has no null values in target co;lumn\n",
    "processed_data=data[data['type'].isnull()==False]\n",
    "\n",
    "\n",
    "# choose the target column(Y) or output\n",
    "target=processed_data.type\n",
    "target"
   ]
  },
  {
   "cell_type": "code",
   "execution_count": 47,
   "metadata": {},
   "outputs": [],
   "source": [
    "# drop the target feature\n",
    "processed_data1= processed_data.drop('type',axis=1)\n"
   ]
  },
  {
   "cell_type": "markdown",
   "metadata": {},
   "source": [
    "now the (processed_data1) will be the X data or input and we will deal with it and prepare it to be a good data for traninig"
   ]
  },
  {
   "cell_type": "code",
   "execution_count": 50,
   "metadata": {},
   "outputs": [
    {
     "data": {
      "text/plain": [
       "price                0\n",
       "year              1014\n",
       "manufacturer     11160\n",
       "condition       114021\n",
       "cylinders       112511\n",
       "fuel              1841\n",
       "odometer          3446\n",
       "transmission      1856\n",
       "drive            69735\n",
       "paint_color      64197\n",
       "state                0\n",
       "dtype: int64"
      ]
     },
     "execution_count": 50,
     "metadata": {},
     "output_type": "execute_result"
    }
   ],
   "source": [
    "# the number of missing data in input\n",
    "sum_of_null_data=processed_data1.isnull().sum()\n",
    "sum_of_null_data\n"
   ]
  },
  {
   "cell_type": "code",
   "execution_count": 51,
   "metadata": {},
   "outputs": [
    {
     "name": "stdout",
     "output_type": "stream",
     "text": [
      "the precentage of null data in feature price : is 0.0 %\n",
      "the precentage of null data in feature year : is 0.3035728185568615 %\n",
      "the precentage of null data in feature manufacturer : is 3.341097292992677 %\n",
      "the precentage of null data in feature condition : is 34.13577548784212 %\n",
      "the precentage of null data in feature cylinders : is 33.68370945626336 %\n",
      "the precentage of null data in feature fuel : is 0.551161300752645 %\n",
      "the precentage of null data in feature odometer : is 1.0316685727287425 %\n",
      "the precentage of null data in feature transmission : is 0.5556520229206459 %\n",
      "the precentage of null data in feature drive : is 20.87736735903623 %\n",
      "the precentage of null data in feature paint_color : is 19.219392734610295 %\n",
      "the precentage of null data in feature state : is 0.0 %\n"
     ]
    }
   ],
   "source": [
    "# calculating the percentage of missing datain every column\n",
    "for i in sum_of_null_data.index:\n",
    "    print('the precentage of null data in feature',i,': is',sum_of_null_data[i]/len(processed_data)*100,'%')"
   ]
  },
  {
   "cell_type": "markdown",
   "metadata": {},
   "source": [
    "- we can see that there are some features has a more than 30% are  null values in  let's visulalize these null values\n",
    "- usually in the case of more than 30% of null values , we use to delete that feature.\n",
    "- we will not delete the feature , we will try to fill the null values\n",
    "- we can view a shape that show us the amount of the null values in every feature\n",
    "\n",
    "####                                 vissulalize the null values"
   ]
  },
  {
   "cell_type": "code",
   "execution_count": 52,
   "metadata": {},
   "outputs": [
    {
     "data": {
      "text/plain": [
       "<matplotlib.axes._subplots.AxesSubplot at 0x14ce6ac0>"
      ]
     },
     "execution_count": 52,
     "metadata": {},
     "output_type": "execute_result"
    },
    {
     "data": {
      "image/png": "[encoded data removed]",
      "text/plain": [
       "<Figure size 864x576 with 2 Axes>"
      ]
     },
     "metadata": {
      "needs_background": "light"
     },
     "output_type": "display_data"
    }
   ],
   "source": [
    "# the size of the figure\n",
    "fig=plt.figure(figsize=(12,8))\n",
    "\n",
    "# view a shape that clarify the missing values\n",
    "nan_matrix=processed_data.isnull()\n",
    "sns.heatmap(nan_matrix)"
   ]
  },
  {
   "cell_type": "markdown",
   "metadata": {},
   "source": [
    "as we can see there are some features have a high percentage of null values"
   ]
  },
  {
   "cell_type": "markdown",
   "metadata": {},
   "source": [
    "###   view information about the data :"
   ]
  },
  {
   "cell_type": "code",
   "execution_count": 54,
   "metadata": {},
   "outputs": [
    {
     "name": "stdout",
     "output_type": "stream",
     "text": [
      "<class 'pandas.core.frame.DataFrame'>\n",
      "Int64Index: 334022 entries, 27 to 426879\n",
      "Data columns (total 11 columns):\n",
      " #   Column        Non-Null Count   Dtype  \n",
      "---  ------        --------------   -----  \n",
      " 0   price         334022 non-null  int64  \n",
      " 1   year          333008 non-null  float64\n",
      " 2   manufacturer  322862 non-null  object \n",
      " 3   condition     220001 non-null  object \n",
      " 4   cylinders     221511 non-null  object \n",
      " 5   fuel          332181 non-null  object \n",
      " 6   odometer      330576 non-null  float64\n",
      " 7   transmission  332166 non-null  object \n",
      " 8   drive         264287 non-null  object \n",
      " 9   paint_color   269825 non-null  object \n",
      " 10  state         334022 non-null  object \n",
      "dtypes: float64(2), int64(1), object(8)\n",
      "memory usage: 30.6+ MB\n"
     ]
    }
   ],
   "source": [
    "processed_data1.info()"
   ]
  },
  {
   "cell_type": "markdown",
   "metadata": {},
   "source": [
    "####    types of features\n",
    "\n",
    "- as we can see there are tow types of data , categorical data and numerical data\n",
    "- we will process the data and convert all of them to numerical data\n"
   ]
  },
  {
   "cell_type": "markdown",
   "metadata": {},
   "source": [
    "#### handling missing data in numerical features\n",
    "- beacause the number of missing data in numerical values are very small in compare with the size of the data \n",
    "- so we will drop this null values\n"
   ]
  },
  {
   "cell_type": "code",
   "execution_count": 55,
   "metadata": {},
   "outputs": [
    {
     "data": {
      "text/plain": [
       "year        1014\n",
       "odometer    3446\n",
       "price          0\n",
       "dtype: int64"
      ]
     },
     "execution_count": 55,
     "metadata": {},
     "output_type": "execute_result"
    }
   ],
   "source": [
    "num_data=processed_data1[['year','odometer','price']]\n",
    "num_data.isnull().sum()"
   ]
  },
  {
   "cell_type": "code",
   "execution_count": 56,
   "metadata": {},
   "outputs": [
    {
     "data": {
      "text/plain": [
       "year        0\n",
       "odometer    0\n",
       "price       0\n",
       "dtype: int64"
      ]
     },
     "execution_count": 56,
     "metadata": {},
     "output_type": "execute_result"
    }
   ],
   "source": [
    "# drop the rows with missing values  in the numerical features\n",
    "# (we drop them because the number of them is very small in comparing with the size of the data)\n",
    "clean_num_data=num_data.dropna()\n",
    "\n",
    "# check the number of missing values\n",
    "clean_num_data.isnull().sum()"
   ]
  },
  {
   "cell_type": "code",
   "execution_count": 58,
   "metadata": {},
   "outputs": [
    {
     "data": {
      "text/plain": [
       "price                0\n",
       "year                 0\n",
       "manufacturer     10018\n",
       "condition       111231\n",
       "cylinders       110348\n",
       "fuel              1709\n",
       "odometer             0\n",
       "transmission      1626\n",
       "drive            68736\n",
       "paint_color      62839\n",
       "state                0\n",
       "dtype: int64"
      ]
     },
     "execution_count": 58,
     "metadata": {},
     "output_type": "execute_result"
    }
   ],
   "source": [
    "# take the all x data after deleting the missing rows from numerical features\n",
    "data_after_clean_num=processed_data1.loc[clean_num_data.index,:]\n",
    "\n",
    "# recheck the number of missing values\n",
    "data_after_clean_num.isnull().sum()"
   ]
  },
  {
   "cell_type": "markdown",
   "metadata": {},
   "source": [
    "## processing the categorical features;\n",
    "\n",
    "- we will start converting categorical features to numerical:\n"
   ]
  },
  {
   "cell_type": "code",
   "execution_count": 59,
   "metadata": {},
   "outputs": [
    {
     "data": {
      "text/html": [
       "<div>\n",
       "<style scoped>\n",
       "    .dataframe tbody tr th:only-of-type {\n",
       "        vertical-align: middle;\n",
       "    }\n",
       "\n",
       "    .dataframe tbody tr th {\n",
       "        vertical-align: top;\n",
       "    }\n",
       "\n",
       "    .dataframe thead th {\n",
       "        text-align: right;\n",
       "    }\n",
       "</style>\n",
       "<table border=\"1\" class=\"dataframe\">\n",
       "  <thead>\n",
       "    <tr style=\"text-align: right;\">\n",
       "      <th></th>\n",
       "      <th>manufacturer</th>\n",
       "      <th>condition</th>\n",
       "      <th>cylinders</th>\n",
       "      <th>fuel</th>\n",
       "      <th>transmission</th>\n",
       "      <th>drive</th>\n",
       "      <th>paint_color</th>\n",
       "      <th>state</th>\n",
       "    </tr>\n",
       "  </thead>\n",
       "  <tbody>\n",
       "    <tr>\n",
       "      <th>27</th>\n",
       "      <td>gmc</td>\n",
       "      <td>good</td>\n",
       "      <td>8 cylinders</td>\n",
       "      <td>gas</td>\n",
       "      <td>other</td>\n",
       "      <td>NaN</td>\n",
       "      <td>white</td>\n",
       "      <td>al</td>\n",
       "    </tr>\n",
       "    <tr>\n",
       "      <th>28</th>\n",
       "      <td>chevrolet</td>\n",
       "      <td>good</td>\n",
       "      <td>8 cylinders</td>\n",
       "      <td>gas</td>\n",
       "      <td>other</td>\n",
       "      <td>NaN</td>\n",
       "      <td>blue</td>\n",
       "      <td>al</td>\n",
       "    </tr>\n",
       "    <tr>\n",
       "      <th>29</th>\n",
       "      <td>chevrolet</td>\n",
       "      <td>good</td>\n",
       "      <td>8 cylinders</td>\n",
       "      <td>gas</td>\n",
       "      <td>other</td>\n",
       "      <td>NaN</td>\n",
       "      <td>red</td>\n",
       "      <td>al</td>\n",
       "    </tr>\n",
       "    <tr>\n",
       "      <th>30</th>\n",
       "      <td>toyota</td>\n",
       "      <td>good</td>\n",
       "      <td>8 cylinders</td>\n",
       "      <td>gas</td>\n",
       "      <td>other</td>\n",
       "      <td>NaN</td>\n",
       "      <td>red</td>\n",
       "      <td>al</td>\n",
       "    </tr>\n",
       "    <tr>\n",
       "      <th>31</th>\n",
       "      <td>ford</td>\n",
       "      <td>excellent</td>\n",
       "      <td>6 cylinders</td>\n",
       "      <td>gas</td>\n",
       "      <td>automatic</td>\n",
       "      <td>rwd</td>\n",
       "      <td>black</td>\n",
       "      <td>al</td>\n",
       "    </tr>\n",
       "  </tbody>\n",
       "</table>\n",
       "</div>"
      ],
      "text/plain": [
       "   manufacturer  condition    cylinders fuel transmission drive paint_color  \\\n",
       "27          gmc       good  8 cylinders  gas        other   NaN       white   \n",
       "28    chevrolet       good  8 cylinders  gas        other   NaN        blue   \n",
       "29    chevrolet       good  8 cylinders  gas        other   NaN         red   \n",
       "30       toyota       good  8 cylinders  gas        other   NaN         red   \n",
       "31         ford  excellent  6 cylinders  gas    automatic   rwd       black   \n",
       "\n",
       "   state  \n",
       "27    al  \n",
       "28    al  \n",
       "29    al  \n",
       "30    al  \n",
       "31    al  "
      ]
     },
     "execution_count": 59,
     "metadata": {},
     "output_type": "execute_result"
    }
   ],
   "source": [
    "# select the categorical features\n",
    "categorical_data=data_after_clean_num.select_dtypes(include=['object'])\n",
    "\n",
    "\n",
    "# if the values of the row are all null we remove it\n",
    "categorical_data1=categorical_data.dropna(thresh=1)\n",
    "\n",
    "\n",
    "# view a sample of data\n",
    "categorical_data1.head()"
   ]
  },
  {
   "cell_type": "code",
   "execution_count": 60,
   "metadata": {},
   "outputs": [
    {
     "data": {
      "text/plain": [
       "manufacturer     10018\n",
       "condition       111231\n",
       "cylinders       110348\n",
       "fuel              1709\n",
       "transmission      1626\n",
       "drive            68736\n",
       "paint_color      62839\n",
       "state                0\n",
       "dtype: int64"
      ]
     },
     "execution_count": 60,
     "metadata": {},
     "output_type": "execute_result"
    }
   ],
   "source": [
    "# the number of null values in every column\n",
    "col_with_nulls=categorical_data1.isnull().sum()\n",
    "col_with_nulls"
   ]
  },
  {
   "cell_type": "code",
   "execution_count": 61,
   "metadata": {},
   "outputs": [
    {
     "data": {
      "text/plain": [
       "Index(['manufacturer', 'condition', 'cylinders', 'fuel', 'transmission',\n",
       "       'drive', 'paint_color', 'state'],\n",
       "      dtype='object')"
      ]
     },
     "execution_count": 61,
     "metadata": {},
     "output_type": "execute_result"
    }
   ],
   "source": [
    "# the categorical data columns\n",
    "categorical_data1.columns"
   ]
  },
  {
   "cell_type": "markdown",
   "metadata": {},
   "source": [
    "### we will convert the categorical features to numerical values,  but we will keep the null values without changing\n",
    "\n",
    "### why we want to keep the null value?\n",
    "\n",
    "### the answer is : because we will apply the IterativeImputer class from sklearn library, this class can predict the null values in one column by using the information in other columns, but all the columns should be numerical values\n",
    "\n"
   ]
  },
  {
   "cell_type": "code",
   "execution_count": 62,
   "metadata": {},
   "outputs": [
    {
     "data": {
      "text/plain": [
       "manufacturernew     10018\n",
       "conditionnew       111231\n",
       "cylindersnew       110348\n",
       "fuelnew              1709\n",
       "transmissionnew      1626\n",
       "drivenew            68736\n",
       "paint_colornew      62839\n",
       "statenew                0\n",
       "dtype: int64"
      ]
     },
     "execution_count": 62,
     "metadata": {},
     "output_type": "execute_result"
    }
   ],
   "source": [
    "#  this code convert the categorical features to numerical with keeping on null values\n",
    "\n",
    "# import label encoder\n",
    "from sklearn.preprocessing import LabelEncoder\n",
    "label_encoder=LabelEncoder()\n",
    "\n",
    "# make empty dictionary\n",
    "dic={}          \n",
    "\n",
    "for i in col_with_nulls.index:          # counter over the columns\n",
    "  if(col_with_nulls[i]>0):              # if the column has null values\n",
    "    dic[i+'new']= label_encoder.fit_transform(categorical_data1[i]).astype('float')  #convert to numerical \n",
    "    dic[i+'new'][np.where(dic[i+'new']==dic[i+'new'].max())]=np.nan                  # the null value take the max value when using LabelEncoder\n",
    "  if(col_with_nulls[i]==0):\n",
    "    \n",
    "    dic[i+'new']= label_encoder.fit_transform(categorical_data1[i]).astype('float')\n",
    "\n",
    "# convert the dictionary to dataframe\n",
    "categorical_data2=pd.DataFrame(dic)\n",
    "\n",
    "# check the number of null values after converting to ensure that we keep the null values\n",
    "categorical_data2.isnull().sum()\n"
   ]
  },
  {
   "cell_type": "code",
   "execution_count": 63,
   "metadata": {},
   "outputs": [
    {
     "data": {
      "text/html": [
       "<div>\n",
       "<style scoped>\n",
       "    .dataframe tbody tr th:only-of-type {\n",
       "        vertical-align: middle;\n",
       "    }\n",
       "\n",
       "    .dataframe tbody tr th {\n",
       "        vertical-align: top;\n",
       "    }\n",
       "\n",
       "    .dataframe thead th {\n",
       "        text-align: right;\n",
       "    }\n",
       "</style>\n",
       "<table border=\"1\" class=\"dataframe\">\n",
       "  <thead>\n",
       "    <tr style=\"text-align: right;\">\n",
       "      <th></th>\n",
       "      <th>manufacturernew</th>\n",
       "      <th>conditionnew</th>\n",
       "      <th>cylindersnew</th>\n",
       "      <th>fuelnew</th>\n",
       "      <th>transmissionnew</th>\n",
       "      <th>drivenew</th>\n",
       "      <th>paint_colornew</th>\n",
       "      <th>statenew</th>\n",
       "    </tr>\n",
       "  </thead>\n",
       "  <tbody>\n",
       "    <tr>\n",
       "      <th>0</th>\n",
       "      <td>14.0</td>\n",
       "      <td>2.0</td>\n",
       "      <td>6.0</td>\n",
       "      <td>2.0</td>\n",
       "      <td>2.0</td>\n",
       "      <td>NaN</td>\n",
       "      <td>10.0</td>\n",
       "      <td>1.0</td>\n",
       "    </tr>\n",
       "    <tr>\n",
       "      <th>1</th>\n",
       "      <td>7.0</td>\n",
       "      <td>2.0</td>\n",
       "      <td>6.0</td>\n",
       "      <td>2.0</td>\n",
       "      <td>2.0</td>\n",
       "      <td>NaN</td>\n",
       "      <td>1.0</td>\n",
       "      <td>1.0</td>\n",
       "    </tr>\n",
       "    <tr>\n",
       "      <th>2</th>\n",
       "      <td>7.0</td>\n",
       "      <td>2.0</td>\n",
       "      <td>6.0</td>\n",
       "      <td>2.0</td>\n",
       "      <td>2.0</td>\n",
       "      <td>NaN</td>\n",
       "      <td>8.0</td>\n",
       "      <td>1.0</td>\n",
       "    </tr>\n",
       "    <tr>\n",
       "      <th>3</th>\n",
       "      <td>39.0</td>\n",
       "      <td>2.0</td>\n",
       "      <td>6.0</td>\n",
       "      <td>2.0</td>\n",
       "      <td>2.0</td>\n",
       "      <td>NaN</td>\n",
       "      <td>8.0</td>\n",
       "      <td>1.0</td>\n",
       "    </tr>\n",
       "    <tr>\n",
       "      <th>4</th>\n",
       "      <td>13.0</td>\n",
       "      <td>0.0</td>\n",
       "      <td>5.0</td>\n",
       "      <td>2.0</td>\n",
       "      <td>0.0</td>\n",
       "      <td>2.0</td>\n",
       "      <td>0.0</td>\n",
       "      <td>1.0</td>\n",
       "    </tr>\n",
       "  </tbody>\n",
       "</table>\n",
       "</div>"
      ],
      "text/plain": [
       "   manufacturernew  conditionnew  cylindersnew  fuelnew  transmissionnew  \\\n",
       "0             14.0           2.0           6.0      2.0              2.0   \n",
       "1              7.0           2.0           6.0      2.0              2.0   \n",
       "2              7.0           2.0           6.0      2.0              2.0   \n",
       "3             39.0           2.0           6.0      2.0              2.0   \n",
       "4             13.0           0.0           5.0      2.0              0.0   \n",
       "\n",
       "   drivenew  paint_colornew  statenew  \n",
       "0       NaN            10.0       1.0  \n",
       "1       NaN             1.0       1.0  \n",
       "2       NaN             8.0       1.0  \n",
       "3       NaN             8.0       1.0  \n",
       "4       2.0             0.0       1.0  "
      ]
     },
     "execution_count": 63,
     "metadata": {},
     "output_type": "execute_result"
    }
   ],
   "source": [
    "# view the head of converted categorical data\n",
    "categorical_data2.head()"
   ]
  },
  {
   "cell_type": "markdown",
   "metadata": {},
   "source": [
    "#### now we will aplly the Iterative_Imputer form sklearn library to predict the missing values in every column by using the information from the other columns "
   ]
  },
  {
   "cell_type": "code",
   "execution_count": 64,
   "metadata": {},
   "outputs": [
    {
     "data": {
      "text/plain": [
       "array([[14.        ,  2.        ,  6.        ,  2.        ,  2.        ,\n",
       "         1.1326523 , 10.        ,  1.        ],\n",
       "       [ 7.        ,  2.        ,  6.        ,  2.        ,  2.        ,\n",
       "         1.0668195 ,  1.        ,  1.        ],\n",
       "       [ 7.        ,  2.        ,  6.        ,  2.        ,  2.        ,\n",
       "         1.16264042,  8.        ,  1.        ],\n",
       "       [39.        ,  2.        ,  6.        ,  2.        ,  2.        ,\n",
       "         0.90039804,  8.        ,  1.        ],\n",
       "       [13.        ,  0.        ,  5.        ,  2.        ,  0.        ,\n",
       "         2.        ,  0.        ,  1.        ],\n",
       "       [14.        ,  2.        ,  6.        ,  2.        ,  2.        ,\n",
       "         0.        ,  0.        ,  1.        ],\n",
       "       [ 7.        ,  2.        ,  5.        ,  2.        ,  2.        ,\n",
       "         0.        ,  9.        ,  1.        ],\n",
       "       [39.        ,  0.        ,  5.        ,  2.        ,  0.        ,\n",
       "         0.        ,  5.        ,  1.        ],\n",
       "       [ 7.        ,  2.        ,  5.        ,  2.        ,  2.        ,\n",
       "         0.        ,  8.        ,  1.        ],\n",
       "       [ 7.        ,  2.        ,  6.        ,  2.        ,  2.        ,\n",
       "         2.        ,  8.        ,  1.        ]])"
      ]
     },
     "execution_count": 64,
     "metadata": {},
     "output_type": "execute_result"
    }
   ],
   "source": [
    "# import the package\n",
    "from sklearn.experimental import enable_iterative_imputer\n",
    "from sklearn.impute import IterativeImputer\n",
    "\n",
    "# take an instane of the class\n",
    "iterative_imputer=IterativeImputer()\n",
    "\n",
    "# fit and transform\n",
    "categorical_data3=iterative_imputer.fit_transform(categorical_data2)\n",
    "\n",
    "# view a sample of resulted data\n",
    "categorical_data3[:10]"
   ]
  },
  {
   "cell_type": "markdown",
   "metadata": {},
   "source": [
    "- the returned data is a numpy array , so we will convert it  pandas dataframe\n",
    "- there are some float number , we want them integer number so we will round them\n"
   ]
  },
  {
   "cell_type": "code",
   "execution_count": 65,
   "metadata": {},
   "outputs": [
    {
     "name": "stdout",
     "output_type": "stream",
     "text": [
      "   manufacturernew  conditionnew  cylindersnew  fuelnew  transmissionnew  \\\n",
      "0             14.0           2.0           6.0      2.0              2.0   \n",
      "1              7.0           2.0           6.0      2.0              2.0   \n",
      "2              7.0           2.0           6.0      2.0              2.0   \n",
      "3             39.0           2.0           6.0      2.0              2.0   \n",
      "4             13.0           0.0           5.0      2.0              0.0   \n",
      "\n",
      "   drivenew  paint_colornew  statenew  \n",
      "0       1.0            10.0       1.0  \n",
      "1       1.0             1.0       1.0  \n",
      "2       1.0             8.0       1.0  \n",
      "3       1.0             8.0       1.0  \n",
      "4       2.0             0.0       1.0  \n"
     ]
    }
   ],
   "source": [
    "\n",
    "categorical_data4=np.round(pd.DataFrame(categorical_data3,columns=categorical_data2.columns))\n",
    "\n",
    "# view the head of data\n",
    "print(categorical_data4.head())\n",
    "\n",
    "\n"
   ]
  },
  {
   "cell_type": "code",
   "execution_count": 66,
   "metadata": {},
   "outputs": [
    {
     "data": {
      "text/html": [
       "<div>\n",
       "<style scoped>\n",
       "    .dataframe tbody tr th:only-of-type {\n",
       "        vertical-align: middle;\n",
       "    }\n",
       "\n",
       "    .dataframe tbody tr th {\n",
       "        vertical-align: top;\n",
       "    }\n",
       "\n",
       "    .dataframe thead th {\n",
       "        text-align: right;\n",
       "    }\n",
       "</style>\n",
       "<table border=\"1\" class=\"dataframe\">\n",
       "  <thead>\n",
       "    <tr style=\"text-align: right;\">\n",
       "      <th></th>\n",
       "      <th>manufacturernew</th>\n",
       "      <th>conditionnew</th>\n",
       "      <th>cylindersnew</th>\n",
       "      <th>fuelnew</th>\n",
       "      <th>transmissionnew</th>\n",
       "      <th>drivenew</th>\n",
       "      <th>paint_colornew</th>\n",
       "      <th>statenew</th>\n",
       "    </tr>\n",
       "  </thead>\n",
       "  <tbody>\n",
       "    <tr>\n",
       "      <th>27</th>\n",
       "      <td>14.0</td>\n",
       "      <td>2.0</td>\n",
       "      <td>6.0</td>\n",
       "      <td>2.0</td>\n",
       "      <td>2.0</td>\n",
       "      <td>1.0</td>\n",
       "      <td>10.0</td>\n",
       "      <td>1.0</td>\n",
       "    </tr>\n",
       "    <tr>\n",
       "      <th>28</th>\n",
       "      <td>7.0</td>\n",
       "      <td>2.0</td>\n",
       "      <td>6.0</td>\n",
       "      <td>2.0</td>\n",
       "      <td>2.0</td>\n",
       "      <td>1.0</td>\n",
       "      <td>1.0</td>\n",
       "      <td>1.0</td>\n",
       "    </tr>\n",
       "    <tr>\n",
       "      <th>29</th>\n",
       "      <td>7.0</td>\n",
       "      <td>2.0</td>\n",
       "      <td>6.0</td>\n",
       "      <td>2.0</td>\n",
       "      <td>2.0</td>\n",
       "      <td>1.0</td>\n",
       "      <td>8.0</td>\n",
       "      <td>1.0</td>\n",
       "    </tr>\n",
       "    <tr>\n",
       "      <th>30</th>\n",
       "      <td>39.0</td>\n",
       "      <td>2.0</td>\n",
       "      <td>6.0</td>\n",
       "      <td>2.0</td>\n",
       "      <td>2.0</td>\n",
       "      <td>1.0</td>\n",
       "      <td>8.0</td>\n",
       "      <td>1.0</td>\n",
       "    </tr>\n",
       "    <tr>\n",
       "      <th>31</th>\n",
       "      <td>13.0</td>\n",
       "      <td>0.0</td>\n",
       "      <td>5.0</td>\n",
       "      <td>2.0</td>\n",
       "      <td>0.0</td>\n",
       "      <td>2.0</td>\n",
       "      <td>0.0</td>\n",
       "      <td>1.0</td>\n",
       "    </tr>\n",
       "    <tr>\n",
       "      <th>...</th>\n",
       "      <td>...</td>\n",
       "      <td>...</td>\n",
       "      <td>...</td>\n",
       "      <td>...</td>\n",
       "      <td>...</td>\n",
       "      <td>...</td>\n",
       "      <td>...</td>\n",
       "      <td>...</td>\n",
       "    </tr>\n",
       "    <tr>\n",
       "      <th>426875</th>\n",
       "      <td>31.0</td>\n",
       "      <td>2.0</td>\n",
       "      <td>5.0</td>\n",
       "      <td>2.0</td>\n",
       "      <td>2.0</td>\n",
       "      <td>1.0</td>\n",
       "      <td>6.0</td>\n",
       "      <td>50.0</td>\n",
       "    </tr>\n",
       "    <tr>\n",
       "      <th>426876</th>\n",
       "      <td>41.0</td>\n",
       "      <td>2.0</td>\n",
       "      <td>5.0</td>\n",
       "      <td>2.0</td>\n",
       "      <td>2.0</td>\n",
       "      <td>1.0</td>\n",
       "      <td>8.0</td>\n",
       "      <td>50.0</td>\n",
       "    </tr>\n",
       "    <tr>\n",
       "      <th>426877</th>\n",
       "      <td>6.0</td>\n",
       "      <td>2.0</td>\n",
       "      <td>6.0</td>\n",
       "      <td>0.0</td>\n",
       "      <td>2.0</td>\n",
       "      <td>1.0</td>\n",
       "      <td>10.0</td>\n",
       "      <td>50.0</td>\n",
       "    </tr>\n",
       "    <tr>\n",
       "      <th>426878</th>\n",
       "      <td>23.0</td>\n",
       "      <td>2.0</td>\n",
       "      <td>5.0</td>\n",
       "      <td>2.0</td>\n",
       "      <td>2.0</td>\n",
       "      <td>1.0</td>\n",
       "      <td>9.0</td>\n",
       "      <td>50.0</td>\n",
       "    </tr>\n",
       "    <tr>\n",
       "      <th>426879</th>\n",
       "      <td>4.0</td>\n",
       "      <td>2.0</td>\n",
       "      <td>5.0</td>\n",
       "      <td>2.0</td>\n",
       "      <td>2.0</td>\n",
       "      <td>2.0</td>\n",
       "      <td>6.0</td>\n",
       "      <td>50.0</td>\n",
       "    </tr>\n",
       "  </tbody>\n",
       "</table>\n",
       "<p>329562 rows × 8 columns</p>\n",
       "</div>"
      ],
      "text/plain": [
       "        manufacturernew  conditionnew  cylindersnew  fuelnew  transmissionnew  \\\n",
       "27                 14.0           2.0           6.0      2.0              2.0   \n",
       "28                  7.0           2.0           6.0      2.0              2.0   \n",
       "29                  7.0           2.0           6.0      2.0              2.0   \n",
       "30                 39.0           2.0           6.0      2.0              2.0   \n",
       "31                 13.0           0.0           5.0      2.0              0.0   \n",
       "...                 ...           ...           ...      ...              ...   \n",
       "426875             31.0           2.0           5.0      2.0              2.0   \n",
       "426876             41.0           2.0           5.0      2.0              2.0   \n",
       "426877              6.0           2.0           6.0      0.0              2.0   \n",
       "426878             23.0           2.0           5.0      2.0              2.0   \n",
       "426879              4.0           2.0           5.0      2.0              2.0   \n",
       "\n",
       "        drivenew  paint_colornew  statenew  \n",
       "27           1.0            10.0       1.0  \n",
       "28           1.0             1.0       1.0  \n",
       "29           1.0             8.0       1.0  \n",
       "30           1.0             8.0       1.0  \n",
       "31           2.0             0.0       1.0  \n",
       "...          ...             ...       ...  \n",
       "426875       1.0             6.0      50.0  \n",
       "426876       1.0             8.0      50.0  \n",
       "426877       1.0            10.0      50.0  \n",
       "426878       1.0             9.0      50.0  \n",
       "426879       2.0             6.0      50.0  \n",
       "\n",
       "[329562 rows x 8 columns]"
      ]
     },
     "execution_count": 66,
     "metadata": {},
     "output_type": "execute_result"
    }
   ],
   "source": [
    "# epair the index\n",
    "categorical_data4=categorical_data4.set_index(data_after_clean_num.index)\n",
    "\n",
    "# sample of data\n",
    "categorical_data4\n",
    "\n"
   ]
  },
  {
   "cell_type": "code",
   "execution_count": 67,
   "metadata": {},
   "outputs": [
    {
     "data": {
      "text/html": [
       "<div>\n",
       "<style scoped>\n",
       "    .dataframe tbody tr th:only-of-type {\n",
       "        vertical-align: middle;\n",
       "    }\n",
       "\n",
       "    .dataframe tbody tr th {\n",
       "        vertical-align: top;\n",
       "    }\n",
       "\n",
       "    .dataframe thead th {\n",
       "        text-align: right;\n",
       "    }\n",
       "</style>\n",
       "<table border=\"1\" class=\"dataframe\">\n",
       "  <thead>\n",
       "    <tr style=\"text-align: right;\">\n",
       "      <th></th>\n",
       "      <th>year</th>\n",
       "      <th>odometer</th>\n",
       "      <th>price</th>\n",
       "      <th>manufacturernew</th>\n",
       "      <th>conditionnew</th>\n",
       "      <th>cylindersnew</th>\n",
       "      <th>fuelnew</th>\n",
       "      <th>transmissionnew</th>\n",
       "      <th>drivenew</th>\n",
       "      <th>paint_colornew</th>\n",
       "      <th>statenew</th>\n",
       "    </tr>\n",
       "  </thead>\n",
       "  <tbody>\n",
       "    <tr>\n",
       "      <th>27</th>\n",
       "      <td>2014.0</td>\n",
       "      <td>57923.0</td>\n",
       "      <td>33590</td>\n",
       "      <td>14.0</td>\n",
       "      <td>2.0</td>\n",
       "      <td>6.0</td>\n",
       "      <td>2.0</td>\n",
       "      <td>2.0</td>\n",
       "      <td>1.0</td>\n",
       "      <td>10.0</td>\n",
       "      <td>1.0</td>\n",
       "    </tr>\n",
       "    <tr>\n",
       "      <th>28</th>\n",
       "      <td>2010.0</td>\n",
       "      <td>71229.0</td>\n",
       "      <td>22590</td>\n",
       "      <td>7.0</td>\n",
       "      <td>2.0</td>\n",
       "      <td>6.0</td>\n",
       "      <td>2.0</td>\n",
       "      <td>2.0</td>\n",
       "      <td>1.0</td>\n",
       "      <td>1.0</td>\n",
       "      <td>1.0</td>\n",
       "    </tr>\n",
       "    <tr>\n",
       "      <th>29</th>\n",
       "      <td>2020.0</td>\n",
       "      <td>19160.0</td>\n",
       "      <td>39590</td>\n",
       "      <td>7.0</td>\n",
       "      <td>2.0</td>\n",
       "      <td>6.0</td>\n",
       "      <td>2.0</td>\n",
       "      <td>2.0</td>\n",
       "      <td>1.0</td>\n",
       "      <td>8.0</td>\n",
       "      <td>1.0</td>\n",
       "    </tr>\n",
       "    <tr>\n",
       "      <th>30</th>\n",
       "      <td>2017.0</td>\n",
       "      <td>41124.0</td>\n",
       "      <td>30990</td>\n",
       "      <td>39.0</td>\n",
       "      <td>2.0</td>\n",
       "      <td>6.0</td>\n",
       "      <td>2.0</td>\n",
       "      <td>2.0</td>\n",
       "      <td>1.0</td>\n",
       "      <td>8.0</td>\n",
       "      <td>1.0</td>\n",
       "    </tr>\n",
       "    <tr>\n",
       "      <th>31</th>\n",
       "      <td>2013.0</td>\n",
       "      <td>128000.0</td>\n",
       "      <td>15000</td>\n",
       "      <td>13.0</td>\n",
       "      <td>0.0</td>\n",
       "      <td>5.0</td>\n",
       "      <td>2.0</td>\n",
       "      <td>0.0</td>\n",
       "      <td>2.0</td>\n",
       "      <td>0.0</td>\n",
       "      <td>1.0</td>\n",
       "    </tr>\n",
       "  </tbody>\n",
       "</table>\n",
       "</div>"
      ],
      "text/plain": [
       "      year  odometer  price  manufacturernew  conditionnew  cylindersnew  \\\n",
       "27  2014.0   57923.0  33590             14.0           2.0           6.0   \n",
       "28  2010.0   71229.0  22590              7.0           2.0           6.0   \n",
       "29  2020.0   19160.0  39590              7.0           2.0           6.0   \n",
       "30  2017.0   41124.0  30990             39.0           2.0           6.0   \n",
       "31  2013.0  128000.0  15000             13.0           0.0           5.0   \n",
       "\n",
       "    fuelnew  transmissionnew  drivenew  paint_colornew  statenew  \n",
       "27      2.0              2.0       1.0            10.0       1.0  \n",
       "28      2.0              2.0       1.0             1.0       1.0  \n",
       "29      2.0              2.0       1.0             8.0       1.0  \n",
       "30      2.0              2.0       1.0             8.0       1.0  \n",
       "31      2.0              0.0       2.0             0.0       1.0  "
      ]
     },
     "execution_count": 67,
     "metadata": {},
     "output_type": "execute_result"
    }
   ],
   "source": [
    "# recompine the categorical data and the numerical data\n",
    "final_data=pd.concat([clean_num_data,categorical_data4],axis=1)\n",
    "\n",
    "# sample of data\n",
    "final_data.head()"
   ]
  },
  {
   "cell_type": "code",
   "execution_count": 68,
   "metadata": {},
   "outputs": [
    {
     "data": {
      "text/html": [
       "<div>\n",
       "<style scoped>\n",
       "    .dataframe tbody tr th:only-of-type {\n",
       "        vertical-align: middle;\n",
       "    }\n",
       "\n",
       "    .dataframe tbody tr th {\n",
       "        vertical-align: top;\n",
       "    }\n",
       "\n",
       "    .dataframe thead th {\n",
       "        text-align: right;\n",
       "    }\n",
       "</style>\n",
       "<table border=\"1\" class=\"dataframe\">\n",
       "  <thead>\n",
       "    <tr style=\"text-align: right;\">\n",
       "      <th></th>\n",
       "      <th>year</th>\n",
       "      <th>odometer</th>\n",
       "      <th>price</th>\n",
       "      <th>manufacturernew</th>\n",
       "      <th>conditionnew</th>\n",
       "      <th>cylindersnew</th>\n",
       "      <th>fuelnew</th>\n",
       "      <th>transmissionnew</th>\n",
       "      <th>drivenew</th>\n",
       "      <th>paint_colornew</th>\n",
       "      <th>statenew</th>\n",
       "    </tr>\n",
       "  </thead>\n",
       "  <tbody>\n",
       "    <tr>\n",
       "      <th>count</th>\n",
       "      <td>329562.000000</td>\n",
       "      <td>3.295620e+05</td>\n",
       "      <td>3.295620e+05</td>\n",
       "      <td>329562.000000</td>\n",
       "      <td>329562.000000</td>\n",
       "      <td>329562.000000</td>\n",
       "      <td>329562.000000</td>\n",
       "      <td>329562.000000</td>\n",
       "      <td>329562.000000</td>\n",
       "      <td>329562.000000</td>\n",
       "      <td>329562.000000</td>\n",
       "    </tr>\n",
       "    <tr>\n",
       "      <th>mean</th>\n",
       "      <td>2011.974481</td>\n",
       "      <td>9.097956e+04</td>\n",
       "      <td>3.952616e+04</td>\n",
       "      <td>18.910405</td>\n",
       "      <td>1.205910</td>\n",
       "      <td>4.635261</td>\n",
       "      <td>2.052649</td>\n",
       "      <td>0.424272</td>\n",
       "      <td>0.803154</td>\n",
       "      <td>5.599010</td>\n",
       "      <td>23.674334</td>\n",
       "    </tr>\n",
       "    <tr>\n",
       "      <th>std</th>\n",
       "      <td>8.550130</td>\n",
       "      <td>1.721191e+05</td>\n",
       "      <td>7.238498e+06</td>\n",
       "      <td>11.631142</td>\n",
       "      <td>0.897388</td>\n",
       "      <td>1.068713</td>\n",
       "      <td>0.783099</td>\n",
       "      <td>0.784391</td>\n",
       "      <td>0.686762</td>\n",
       "      <td>3.723067</td>\n",
       "      <td>15.275697</td>\n",
       "    </tr>\n",
       "    <tr>\n",
       "      <th>min</th>\n",
       "      <td>1900.000000</td>\n",
       "      <td>0.000000e+00</td>\n",
       "      <td>0.000000e+00</td>\n",
       "      <td>0.000000</td>\n",
       "      <td>0.000000</td>\n",
       "      <td>0.000000</td>\n",
       "      <td>0.000000</td>\n",
       "      <td>0.000000</td>\n",
       "      <td>0.000000</td>\n",
       "      <td>0.000000</td>\n",
       "      <td>0.000000</td>\n",
       "    </tr>\n",
       "    <tr>\n",
       "      <th>25%</th>\n",
       "      <td>2009.000000</td>\n",
       "      <td>3.460500e+04</td>\n",
       "      <td>6.500000e+03</td>\n",
       "      <td>10.000000</td>\n",
       "      <td>0.000000</td>\n",
       "      <td>4.000000</td>\n",
       "      <td>2.000000</td>\n",
       "      <td>0.000000</td>\n",
       "      <td>0.000000</td>\n",
       "      <td>1.000000</td>\n",
       "      <td>9.000000</td>\n",
       "    </tr>\n",
       "    <tr>\n",
       "      <th>50%</th>\n",
       "      <td>2014.000000</td>\n",
       "      <td>7.982500e+04</td>\n",
       "      <td>1.499900e+04</td>\n",
       "      <td>16.000000</td>\n",
       "      <td>1.000000</td>\n",
       "      <td>5.000000</td>\n",
       "      <td>2.000000</td>\n",
       "      <td>0.000000</td>\n",
       "      <td>1.000000</td>\n",
       "      <td>6.000000</td>\n",
       "      <td>23.000000</td>\n",
       "    </tr>\n",
       "    <tr>\n",
       "      <th>75%</th>\n",
       "      <td>2017.000000</td>\n",
       "      <td>1.276338e+05</td>\n",
       "      <td>2.759000e+04</td>\n",
       "      <td>29.000000</td>\n",
       "      <td>2.000000</td>\n",
       "      <td>5.000000</td>\n",
       "      <td>2.000000</td>\n",
       "      <td>0.000000</td>\n",
       "      <td>1.000000</td>\n",
       "      <td>9.000000</td>\n",
       "      <td>37.000000</td>\n",
       "    </tr>\n",
       "    <tr>\n",
       "      <th>max</th>\n",
       "      <td>2022.000000</td>\n",
       "      <td>1.000000e+07</td>\n",
       "      <td>3.736929e+09</td>\n",
       "      <td>41.000000</td>\n",
       "      <td>5.000000</td>\n",
       "      <td>7.000000</td>\n",
       "      <td>4.000000</td>\n",
       "      <td>2.000000</td>\n",
       "      <td>2.000000</td>\n",
       "      <td>11.000000</td>\n",
       "      <td>50.000000</td>\n",
       "    </tr>\n",
       "  </tbody>\n",
       "</table>\n",
       "</div>"
      ],
      "text/plain": [
       "                year      odometer         price  manufacturernew  \\\n",
       "count  329562.000000  3.295620e+05  3.295620e+05    329562.000000   \n",
       "mean     2011.974481  9.097956e+04  3.952616e+04        18.910405   \n",
       "std         8.550130  1.721191e+05  7.238498e+06        11.631142   \n",
       "min      1900.000000  0.000000e+00  0.000000e+00         0.000000   \n",
       "25%      2009.000000  3.460500e+04  6.500000e+03        10.000000   \n",
       "50%      2014.000000  7.982500e+04  1.499900e+04        16.000000   \n",
       "75%      2017.000000  1.276338e+05  2.759000e+04        29.000000   \n",
       "max      2022.000000  1.000000e+07  3.736929e+09        41.000000   \n",
       "\n",
       "        conditionnew   cylindersnew        fuelnew  transmissionnew  \\\n",
       "count  329562.000000  329562.000000  329562.000000    329562.000000   \n",
       "mean        1.205910       4.635261       2.052649         0.424272   \n",
       "std         0.897388       1.068713       0.783099         0.784391   \n",
       "min         0.000000       0.000000       0.000000         0.000000   \n",
       "25%         0.000000       4.000000       2.000000         0.000000   \n",
       "50%         1.000000       5.000000       2.000000         0.000000   \n",
       "75%         2.000000       5.000000       2.000000         0.000000   \n",
       "max         5.000000       7.000000       4.000000         2.000000   \n",
       "\n",
       "            drivenew  paint_colornew       statenew  \n",
       "count  329562.000000   329562.000000  329562.000000  \n",
       "mean        0.803154        5.599010      23.674334  \n",
       "std         0.686762        3.723067      15.275697  \n",
       "min         0.000000        0.000000       0.000000  \n",
       "25%         0.000000        1.000000       9.000000  \n",
       "50%         1.000000        6.000000      23.000000  \n",
       "75%         1.000000        9.000000      37.000000  \n",
       "max         2.000000       11.000000      50.000000  "
      ]
     },
     "execution_count": 68,
     "metadata": {},
     "output_type": "execute_result"
    }
   ],
   "source": [
    "# describe the data\n",
    "final_data.describe()"
   ]
  },
  {
   "cell_type": "markdown",
   "metadata": {},
   "source": [
    "# handling outliers\n",
    "\n",
    "- beacuse the size of the data are big , if we plot it it will not apear in clar shape so:\n",
    "- we will view a part of the price and odometer data boxplot to see the outliers and remove them\n",
    "\n"
   ]
  },
  {
   "cell_type": "code",
   "execution_count": 69,
   "metadata": {},
   "outputs": [
    {
     "data": {
      "text/plain": [
       "<matplotlib.axes._subplots.AxesSubplot at 0xbc70d400>"
      ]
     },
     "execution_count": 69,
     "metadata": {},
     "output_type": "execute_result"
    },
    {
     "data": {
      "image/png": "[encoded data removed]",
      "text/plain": [
       "<Figure size 864x576 with 1 Axes>"
      ]
     },
     "metadata": {
      "needs_background": "light"
     },
     "output_type": "display_data"
    }
   ],
   "source": [
    "# set the size of the figure\n",
    "fig=plt.figure(figsize=(12,8))\n",
    "\n",
    "# view a box plot of price colum\n",
    "sns.boxplot(final_data.price)"
   ]
  },
  {
   "cell_type": "markdown",
   "metadata": {},
   "source": [
    "- because the high range of data , the most of data is located in a narrow range  so it doesn't all appear in the shape\n",
    "- but from the shape we can see that these are some outlies that have a high values"
   ]
  },
  {
   "cell_type": "code",
   "execution_count": 70,
   "metadata": {},
   "outputs": [
    {
     "data": {
      "text/plain": [
       "66"
      ]
     },
     "execution_count": 70,
     "metadata": {},
     "output_type": "execute_result"
    }
   ],
   "source": [
    "# the number of values greater than 200000\n",
    "len(final_data[final_data.price>200000].price)"
   ]
  },
  {
   "cell_type": "markdown",
   "metadata": {},
   "source": [
    "- we note that there is a small number of values greater than 200000 so these can be outliers and we will remove them"
   ]
  },
  {
   "cell_type": "code",
   "execution_count": 71,
   "metadata": {},
   "outputs": [
    {
     "data": {
      "text/html": [
       "<div>\n",
       "<style scoped>\n",
       "    .dataframe tbody tr th:only-of-type {\n",
       "        vertical-align: middle;\n",
       "    }\n",
       "\n",
       "    .dataframe tbody tr th {\n",
       "        vertical-align: top;\n",
       "    }\n",
       "\n",
       "    .dataframe thead th {\n",
       "        text-align: right;\n",
       "    }\n",
       "</style>\n",
       "<table border=\"1\" class=\"dataframe\">\n",
       "  <thead>\n",
       "    <tr style=\"text-align: right;\">\n",
       "      <th></th>\n",
       "      <th>year</th>\n",
       "      <th>odometer</th>\n",
       "      <th>price</th>\n",
       "      <th>manufacturernew</th>\n",
       "      <th>conditionnew</th>\n",
       "      <th>cylindersnew</th>\n",
       "      <th>fuelnew</th>\n",
       "      <th>transmissionnew</th>\n",
       "      <th>drivenew</th>\n",
       "      <th>paint_colornew</th>\n",
       "      <th>statenew</th>\n",
       "    </tr>\n",
       "  </thead>\n",
       "  <tbody>\n",
       "    <tr>\n",
       "      <th>27</th>\n",
       "      <td>2014.0</td>\n",
       "      <td>57923.0</td>\n",
       "      <td>33590</td>\n",
       "      <td>14.0</td>\n",
       "      <td>2.0</td>\n",
       "      <td>6.0</td>\n",
       "      <td>2.0</td>\n",
       "      <td>2.0</td>\n",
       "      <td>1.0</td>\n",
       "      <td>10.0</td>\n",
       "      <td>1.0</td>\n",
       "    </tr>\n",
       "    <tr>\n",
       "      <th>28</th>\n",
       "      <td>2010.0</td>\n",
       "      <td>71229.0</td>\n",
       "      <td>22590</td>\n",
       "      <td>7.0</td>\n",
       "      <td>2.0</td>\n",
       "      <td>6.0</td>\n",
       "      <td>2.0</td>\n",
       "      <td>2.0</td>\n",
       "      <td>1.0</td>\n",
       "      <td>1.0</td>\n",
       "      <td>1.0</td>\n",
       "    </tr>\n",
       "    <tr>\n",
       "      <th>29</th>\n",
       "      <td>2020.0</td>\n",
       "      <td>19160.0</td>\n",
       "      <td>39590</td>\n",
       "      <td>7.0</td>\n",
       "      <td>2.0</td>\n",
       "      <td>6.0</td>\n",
       "      <td>2.0</td>\n",
       "      <td>2.0</td>\n",
       "      <td>1.0</td>\n",
       "      <td>8.0</td>\n",
       "      <td>1.0</td>\n",
       "    </tr>\n",
       "    <tr>\n",
       "      <th>30</th>\n",
       "      <td>2017.0</td>\n",
       "      <td>41124.0</td>\n",
       "      <td>30990</td>\n",
       "      <td>39.0</td>\n",
       "      <td>2.0</td>\n",
       "      <td>6.0</td>\n",
       "      <td>2.0</td>\n",
       "      <td>2.0</td>\n",
       "      <td>1.0</td>\n",
       "      <td>8.0</td>\n",
       "      <td>1.0</td>\n",
       "    </tr>\n",
       "    <tr>\n",
       "      <th>31</th>\n",
       "      <td>2013.0</td>\n",
       "      <td>128000.0</td>\n",
       "      <td>15000</td>\n",
       "      <td>13.0</td>\n",
       "      <td>0.0</td>\n",
       "      <td>5.0</td>\n",
       "      <td>2.0</td>\n",
       "      <td>0.0</td>\n",
       "      <td>2.0</td>\n",
       "      <td>0.0</td>\n",
       "      <td>1.0</td>\n",
       "    </tr>\n",
       "    <tr>\n",
       "      <th>...</th>\n",
       "      <td>...</td>\n",
       "      <td>...</td>\n",
       "      <td>...</td>\n",
       "      <td>...</td>\n",
       "      <td>...</td>\n",
       "      <td>...</td>\n",
       "      <td>...</td>\n",
       "      <td>...</td>\n",
       "      <td>...</td>\n",
       "      <td>...</td>\n",
       "      <td>...</td>\n",
       "    </tr>\n",
       "    <tr>\n",
       "      <th>426875</th>\n",
       "      <td>2019.0</td>\n",
       "      <td>32226.0</td>\n",
       "      <td>23590</td>\n",
       "      <td>31.0</td>\n",
       "      <td>2.0</td>\n",
       "      <td>5.0</td>\n",
       "      <td>2.0</td>\n",
       "      <td>2.0</td>\n",
       "      <td>1.0</td>\n",
       "      <td>6.0</td>\n",
       "      <td>50.0</td>\n",
       "    </tr>\n",
       "    <tr>\n",
       "      <th>426876</th>\n",
       "      <td>2020.0</td>\n",
       "      <td>12029.0</td>\n",
       "      <td>30590</td>\n",
       "      <td>41.0</td>\n",
       "      <td>2.0</td>\n",
       "      <td>5.0</td>\n",
       "      <td>2.0</td>\n",
       "      <td>2.0</td>\n",
       "      <td>1.0</td>\n",
       "      <td>8.0</td>\n",
       "      <td>50.0</td>\n",
       "    </tr>\n",
       "    <tr>\n",
       "      <th>426877</th>\n",
       "      <td>2020.0</td>\n",
       "      <td>4174.0</td>\n",
       "      <td>34990</td>\n",
       "      <td>6.0</td>\n",
       "      <td>2.0</td>\n",
       "      <td>6.0</td>\n",
       "      <td>0.0</td>\n",
       "      <td>2.0</td>\n",
       "      <td>1.0</td>\n",
       "      <td>10.0</td>\n",
       "      <td>50.0</td>\n",
       "    </tr>\n",
       "    <tr>\n",
       "      <th>426878</th>\n",
       "      <td>2018.0</td>\n",
       "      <td>30112.0</td>\n",
       "      <td>28990</td>\n",
       "      <td>23.0</td>\n",
       "      <td>2.0</td>\n",
       "      <td>5.0</td>\n",
       "      <td>2.0</td>\n",
       "      <td>2.0</td>\n",
       "      <td>1.0</td>\n",
       "      <td>9.0</td>\n",
       "      <td>50.0</td>\n",
       "    </tr>\n",
       "    <tr>\n",
       "      <th>426879</th>\n",
       "      <td>2019.0</td>\n",
       "      <td>22716.0</td>\n",
       "      <td>30590</td>\n",
       "      <td>4.0</td>\n",
       "      <td>2.0</td>\n",
       "      <td>5.0</td>\n",
       "      <td>2.0</td>\n",
       "      <td>2.0</td>\n",
       "      <td>2.0</td>\n",
       "      <td>6.0</td>\n",
       "      <td>50.0</td>\n",
       "    </tr>\n",
       "  </tbody>\n",
       "</table>\n",
       "<p>329495 rows × 11 columns</p>\n",
       "</div>"
      ],
      "text/plain": [
       "          year  odometer  price  manufacturernew  conditionnew  cylindersnew  \\\n",
       "27      2014.0   57923.0  33590             14.0           2.0           6.0   \n",
       "28      2010.0   71229.0  22590              7.0           2.0           6.0   \n",
       "29      2020.0   19160.0  39590              7.0           2.0           6.0   \n",
       "30      2017.0   41124.0  30990             39.0           2.0           6.0   \n",
       "31      2013.0  128000.0  15000             13.0           0.0           5.0   \n",
       "...        ...       ...    ...              ...           ...           ...   \n",
       "426875  2019.0   32226.0  23590             31.0           2.0           5.0   \n",
       "426876  2020.0   12029.0  30590             41.0           2.0           5.0   \n",
       "426877  2020.0    4174.0  34990              6.0           2.0           6.0   \n",
       "426878  2018.0   30112.0  28990             23.0           2.0           5.0   \n",
       "426879  2019.0   22716.0  30590              4.0           2.0           5.0   \n",
       "\n",
       "        fuelnew  transmissionnew  drivenew  paint_colornew  statenew  \n",
       "27          2.0              2.0       1.0            10.0       1.0  \n",
       "28          2.0              2.0       1.0             1.0       1.0  \n",
       "29          2.0              2.0       1.0             8.0       1.0  \n",
       "30          2.0              2.0       1.0             8.0       1.0  \n",
       "31          2.0              0.0       2.0             0.0       1.0  \n",
       "...         ...              ...       ...             ...       ...  \n",
       "426875      2.0              2.0       1.0             6.0      50.0  \n",
       "426876      2.0              2.0       1.0             8.0      50.0  \n",
       "426877      0.0              2.0       1.0            10.0      50.0  \n",
       "426878      2.0              2.0       1.0             9.0      50.0  \n",
       "426879      2.0              2.0       2.0             6.0      50.0  \n",
       "\n",
       "[329495 rows x 11 columns]"
      ]
     },
     "execution_count": 71,
     "metadata": {},
     "output_type": "execute_result"
    }
   ],
   "source": [
    "# choose the data smaller than 200000\n",
    "final_data1=final_data[final_data.price<200000]\n",
    "\n",
    "# sample of data\n",
    "final_data1\n"
   ]
  },
  {
   "cell_type": "markdown",
   "metadata": {},
   "source": [
    "##### we will do the same process for odometer feature"
   ]
  },
  {
   "cell_type": "code",
   "execution_count": 72,
   "metadata": {},
   "outputs": [
    {
     "data": {
      "text/plain": [
       "<matplotlib.axes._subplots.AxesSubplot at 0xa1cb7c40>"
      ]
     },
     "execution_count": 72,
     "metadata": {},
     "output_type": "execute_result"
    },
    {
     "data": {
      "image/png": "[encoded data removed]",
      "text/plain": [
       "<Figure size 864x576 with 1 Axes>"
      ]
     },
     "metadata": {
      "needs_background": "light"
     },
     "output_type": "display_data"
    }
   ],
   "source": [
    "# set the size of the plot figure\n",
    "fig=plt.figure(figsize=(12,8))\n",
    "\n",
    "\n",
    "# view boxplot of odometer feature\n",
    "sns.boxplot(final_data1.odometer)"
   ]
  },
  {
   "cell_type": "code",
   "execution_count": 73,
   "metadata": {},
   "outputs": [
    {
     "data": {
      "text/plain": [
       "760"
      ]
     },
     "execution_count": 73,
     "metadata": {},
     "output_type": "execute_result"
    }
   ],
   "source": [
    "# the number of odemetr values greater than 400000\n",
    "len(final_data1[final_data1.odometer>400000].odometer)\n"
   ]
  },
  {
   "cell_type": "markdown",
   "metadata": {},
   "source": [
    "- we see that the number of odometer values which are greater than 400000 is small in comparison with the size of data\n",
    "- wecan consider them as outliers and remove them"
   ]
  },
  {
   "cell_type": "code",
   "execution_count": 74,
   "metadata": {},
   "outputs": [],
   "source": [
    "# take the data which odometer is smaller than 400000\n",
    "final_data2=final_data1[final_data1.odometer<400000]\n",
    "\n"
   ]
  },
  {
   "cell_type": "code",
   "execution_count": 75,
   "metadata": {},
   "outputs": [
    {
     "data": {
      "text/html": [
       "<div>\n",
       "<style scoped>\n",
       "    .dataframe tbody tr th:only-of-type {\n",
       "        vertical-align: middle;\n",
       "    }\n",
       "\n",
       "    .dataframe tbody tr th {\n",
       "        vertical-align: top;\n",
       "    }\n",
       "\n",
       "    .dataframe thead th {\n",
       "        text-align: right;\n",
       "    }\n",
       "</style>\n",
       "<table border=\"1\" class=\"dataframe\">\n",
       "  <thead>\n",
       "    <tr style=\"text-align: right;\">\n",
       "      <th></th>\n",
       "      <th>year</th>\n",
       "      <th>odometer</th>\n",
       "      <th>price</th>\n",
       "      <th>manufacturernew</th>\n",
       "      <th>conditionnew</th>\n",
       "      <th>cylindersnew</th>\n",
       "      <th>fuelnew</th>\n",
       "      <th>transmissionnew</th>\n",
       "      <th>drivenew</th>\n",
       "      <th>paint_colornew</th>\n",
       "      <th>statenew</th>\n",
       "    </tr>\n",
       "  </thead>\n",
       "  <tbody>\n",
       "    <tr>\n",
       "      <th>count</th>\n",
       "      <td>328718.000000</td>\n",
       "      <td>328718.000000</td>\n",
       "      <td>328718.000000</td>\n",
       "      <td>328718.000000</td>\n",
       "      <td>328718.000000</td>\n",
       "      <td>328718.000000</td>\n",
       "      <td>328718.000000</td>\n",
       "      <td>328718.000000</td>\n",
       "      <td>328718.000000</td>\n",
       "      <td>328718.000000</td>\n",
       "      <td>328718.000000</td>\n",
       "    </tr>\n",
       "    <tr>\n",
       "      <th>mean</th>\n",
       "      <td>2012.005451</td>\n",
       "      <td>86754.873034</td>\n",
       "      <td>18281.568207</td>\n",
       "      <td>18.911727</td>\n",
       "      <td>1.205130</td>\n",
       "      <td>4.634237</td>\n",
       "      <td>2.054971</td>\n",
       "      <td>0.424209</td>\n",
       "      <td>0.802457</td>\n",
       "      <td>5.597819</td>\n",
       "      <td>23.676793</td>\n",
       "    </tr>\n",
       "    <tr>\n",
       "      <th>std</th>\n",
       "      <td>8.484423</td>\n",
       "      <td>61211.903624</td>\n",
       "      <td>15216.686712</td>\n",
       "      <td>11.635013</td>\n",
       "      <td>0.896877</td>\n",
       "      <td>1.068119</td>\n",
       "      <td>0.781024</td>\n",
       "      <td>0.784864</td>\n",
       "      <td>0.686367</td>\n",
       "      <td>3.722913</td>\n",
       "      <td>15.275397</td>\n",
       "    </tr>\n",
       "    <tr>\n",
       "      <th>min</th>\n",
       "      <td>1900.000000</td>\n",
       "      <td>0.000000</td>\n",
       "      <td>0.000000</td>\n",
       "      <td>0.000000</td>\n",
       "      <td>0.000000</td>\n",
       "      <td>0.000000</td>\n",
       "      <td>0.000000</td>\n",
       "      <td>0.000000</td>\n",
       "      <td>0.000000</td>\n",
       "      <td>0.000000</td>\n",
       "      <td>0.000000</td>\n",
       "    </tr>\n",
       "    <tr>\n",
       "      <th>25%</th>\n",
       "      <td>2009.000000</td>\n",
       "      <td>34526.000000</td>\n",
       "      <td>6500.000000</td>\n",
       "      <td>10.000000</td>\n",
       "      <td>0.000000</td>\n",
       "      <td>4.000000</td>\n",
       "      <td>2.000000</td>\n",
       "      <td>0.000000</td>\n",
       "      <td>0.000000</td>\n",
       "      <td>1.000000</td>\n",
       "      <td>9.000000</td>\n",
       "    </tr>\n",
       "    <tr>\n",
       "      <th>50%</th>\n",
       "      <td>2014.000000</td>\n",
       "      <td>79540.000000</td>\n",
       "      <td>15000.000000</td>\n",
       "      <td>16.000000</td>\n",
       "      <td>1.000000</td>\n",
       "      <td>5.000000</td>\n",
       "      <td>2.000000</td>\n",
       "      <td>0.000000</td>\n",
       "      <td>1.000000</td>\n",
       "      <td>6.000000</td>\n",
       "      <td>23.000000</td>\n",
       "    </tr>\n",
       "    <tr>\n",
       "      <th>75%</th>\n",
       "      <td>2017.000000</td>\n",
       "      <td>127081.000000</td>\n",
       "      <td>27590.000000</td>\n",
       "      <td>29.000000</td>\n",
       "      <td>2.000000</td>\n",
       "      <td>5.000000</td>\n",
       "      <td>2.000000</td>\n",
       "      <td>0.000000</td>\n",
       "      <td>1.000000</td>\n",
       "      <td>9.000000</td>\n",
       "      <td>37.000000</td>\n",
       "    </tr>\n",
       "    <tr>\n",
       "      <th>max</th>\n",
       "      <td>2022.000000</td>\n",
       "      <td>399999.000000</td>\n",
       "      <td>199999.000000</td>\n",
       "      <td>41.000000</td>\n",
       "      <td>5.000000</td>\n",
       "      <td>7.000000</td>\n",
       "      <td>4.000000</td>\n",
       "      <td>2.000000</td>\n",
       "      <td>2.000000</td>\n",
       "      <td>11.000000</td>\n",
       "      <td>50.000000</td>\n",
       "    </tr>\n",
       "  </tbody>\n",
       "</table>\n",
       "</div>"
      ],
      "text/plain": [
       "                year       odometer          price  manufacturernew  \\\n",
       "count  328718.000000  328718.000000  328718.000000    328718.000000   \n",
       "mean     2012.005451   86754.873034   18281.568207        18.911727   \n",
       "std         8.484423   61211.903624   15216.686712        11.635013   \n",
       "min      1900.000000       0.000000       0.000000         0.000000   \n",
       "25%      2009.000000   34526.000000    6500.000000        10.000000   \n",
       "50%      2014.000000   79540.000000   15000.000000        16.000000   \n",
       "75%      2017.000000  127081.000000   27590.000000        29.000000   \n",
       "max      2022.000000  399999.000000  199999.000000        41.000000   \n",
       "\n",
       "        conditionnew   cylindersnew        fuelnew  transmissionnew  \\\n",
       "count  328718.000000  328718.000000  328718.000000    328718.000000   \n",
       "mean        1.205130       4.634237       2.054971         0.424209   \n",
       "std         0.896877       1.068119       0.781024         0.784864   \n",
       "min         0.000000       0.000000       0.000000         0.000000   \n",
       "25%         0.000000       4.000000       2.000000         0.000000   \n",
       "50%         1.000000       5.000000       2.000000         0.000000   \n",
       "75%         2.000000       5.000000       2.000000         0.000000   \n",
       "max         5.000000       7.000000       4.000000         2.000000   \n",
       "\n",
       "            drivenew  paint_colornew       statenew  \n",
       "count  328718.000000   328718.000000  328718.000000  \n",
       "mean        0.802457        5.597819      23.676793  \n",
       "std         0.686367        3.722913      15.275397  \n",
       "min         0.000000        0.000000       0.000000  \n",
       "25%         0.000000        1.000000       9.000000  \n",
       "50%         1.000000        6.000000      23.000000  \n",
       "75%         1.000000        9.000000      37.000000  \n",
       "max         2.000000       11.000000      50.000000  "
      ]
     },
     "execution_count": 75,
     "metadata": {},
     "output_type": "execute_result"
    }
   ],
   "source": [
    "# viw a desciption of the data after that previous preprocessing\n",
    "final_data2.describe()"
   ]
  },
  {
   "cell_type": "markdown",
   "metadata": {},
   "source": [
    "- as we can see that some features has a big standard deviation \n",
    "- so we will normalize the data\n",
    "- the normalization will be by deviding every feature on it's max number so the values will be in range [0,1]"
   ]
  },
  {
   "cell_type": "code",
   "execution_count": 82,
   "metadata": {},
   "outputs": [
    {
     "data": {
      "text/html": [
       "<div>\n",
       "<style scoped>\n",
       "    .dataframe tbody tr th:only-of-type {\n",
       "        vertical-align: middle;\n",
       "    }\n",
       "\n",
       "    .dataframe tbody tr th {\n",
       "        vertical-align: top;\n",
       "    }\n",
       "\n",
       "    .dataframe thead th {\n",
       "        text-align: right;\n",
       "    }\n",
       "</style>\n",
       "<table border=\"1\" class=\"dataframe\">\n",
       "  <thead>\n",
       "    <tr style=\"text-align: right;\">\n",
       "      <th></th>\n",
       "      <th>year</th>\n",
       "      <th>odometer</th>\n",
       "      <th>price</th>\n",
       "      <th>manufacturernew</th>\n",
       "      <th>conditionnew</th>\n",
       "      <th>cylindersnew</th>\n",
       "      <th>fuelnew</th>\n",
       "      <th>transmissionnew</th>\n",
       "      <th>drivenew</th>\n",
       "      <th>paint_colornew</th>\n",
       "      <th>statenew</th>\n",
       "    </tr>\n",
       "  </thead>\n",
       "  <tbody>\n",
       "    <tr>\n",
       "      <th>27</th>\n",
       "      <td>0.996044</td>\n",
       "      <td>0.144808</td>\n",
       "      <td>0.167951</td>\n",
       "      <td>0.341463</td>\n",
       "      <td>0.4</td>\n",
       "      <td>0.857143</td>\n",
       "      <td>0.5</td>\n",
       "      <td>1.0</td>\n",
       "      <td>0.5</td>\n",
       "      <td>0.909091</td>\n",
       "      <td>0.02</td>\n",
       "    </tr>\n",
       "    <tr>\n",
       "      <th>28</th>\n",
       "      <td>0.994065</td>\n",
       "      <td>0.178073</td>\n",
       "      <td>0.112951</td>\n",
       "      <td>0.170732</td>\n",
       "      <td>0.4</td>\n",
       "      <td>0.857143</td>\n",
       "      <td>0.5</td>\n",
       "      <td>1.0</td>\n",
       "      <td>0.5</td>\n",
       "      <td>0.090909</td>\n",
       "      <td>0.02</td>\n",
       "    </tr>\n",
       "    <tr>\n",
       "      <th>29</th>\n",
       "      <td>0.999011</td>\n",
       "      <td>0.047900</td>\n",
       "      <td>0.197951</td>\n",
       "      <td>0.170732</td>\n",
       "      <td>0.4</td>\n",
       "      <td>0.857143</td>\n",
       "      <td>0.5</td>\n",
       "      <td>1.0</td>\n",
       "      <td>0.5</td>\n",
       "      <td>0.727273</td>\n",
       "      <td>0.02</td>\n",
       "    </tr>\n",
       "    <tr>\n",
       "      <th>30</th>\n",
       "      <td>0.997527</td>\n",
       "      <td>0.102810</td>\n",
       "      <td>0.154951</td>\n",
       "      <td>0.951220</td>\n",
       "      <td>0.4</td>\n",
       "      <td>0.857143</td>\n",
       "      <td>0.5</td>\n",
       "      <td>1.0</td>\n",
       "      <td>0.5</td>\n",
       "      <td>0.727273</td>\n",
       "      <td>0.02</td>\n",
       "    </tr>\n",
       "    <tr>\n",
       "      <th>31</th>\n",
       "      <td>0.995549</td>\n",
       "      <td>0.320001</td>\n",
       "      <td>0.075000</td>\n",
       "      <td>0.317073</td>\n",
       "      <td>0.0</td>\n",
       "      <td>0.714286</td>\n",
       "      <td>0.5</td>\n",
       "      <td>0.0</td>\n",
       "      <td>1.0</td>\n",
       "      <td>0.000000</td>\n",
       "      <td>0.02</td>\n",
       "    </tr>\n",
       "  </tbody>\n",
       "</table>\n",
       "</div>"
      ],
      "text/plain": [
       "        year  odometer     price  manufacturernew  conditionnew  cylindersnew  \\\n",
       "27  0.996044  0.144808  0.167951         0.341463           0.4      0.857143   \n",
       "28  0.994065  0.178073  0.112951         0.170732           0.4      0.857143   \n",
       "29  0.999011  0.047900  0.197951         0.170732           0.4      0.857143   \n",
       "30  0.997527  0.102810  0.154951         0.951220           0.4      0.857143   \n",
       "31  0.995549  0.320001  0.075000         0.317073           0.0      0.714286   \n",
       "\n",
       "    fuelnew  transmissionnew  drivenew  paint_colornew  statenew  \n",
       "27      0.5              1.0       0.5        0.909091      0.02  \n",
       "28      0.5              1.0       0.5        0.090909      0.02  \n",
       "29      0.5              1.0       0.5        0.727273      0.02  \n",
       "30      0.5              1.0       0.5        0.727273      0.02  \n",
       "31      0.5              0.0       1.0        0.000000      0.02  "
      ]
     },
     "execution_count": 82,
     "metadata": {},
     "output_type": "execute_result"
    }
   ],
   "source": [
    "# new emplty dataframe\n",
    "final_data3=pd.DataFrame()\n",
    "\n",
    "# divide every feature on it's max value\n",
    "for i in final_data2.columns:\n",
    "    final_data3[i]=final_data2[i]/final_data2[i].max()\n",
    "\n",
    "# view the final shape of the data    \n",
    "final_data3.head()    "
   ]
  },
  {
   "cell_type": "markdown",
   "metadata": {},
   "source": [
    "## split the data and train the models:\n",
    "\n",
    "\n"
   ]
  },
  {
   "cell_type": "code",
   "execution_count": 86,
   "metadata": {},
   "outputs": [],
   "source": [
    "# determine input and output \n",
    "X=final_data3\n",
    "Y=target[final_data3.index]\n"
   ]
  },
  {
   "cell_type": "markdown",
   "metadata": {},
   "source": [
    "##### split the data into train and test"
   ]
  },
  {
   "cell_type": "code",
   "execution_count": 87,
   "metadata": {},
   "outputs": [],
   "source": [
    "from sklearn.model_selection import train_test_split\n",
    "X_train,X_test,Y_train,Y_test=train_test_split(X,Y,test_size=0.2,random_state=42)"
   ]
  },
  {
   "cell_type": "markdown",
   "metadata": {},
   "source": [
    "### the decision tree model"
   ]
  },
  {
   "cell_type": "code",
   "execution_count": 88,
   "metadata": {},
   "outputs": [
    {
     "data": {
      "text/html": [
       "<style>#sk-container-id-1 {color: black;background-color: white;}#sk-container-id-1 pre{padding: 0;}#sk-container-id-1 div.sk-toggleable {background-color: white;}#sk-container-id-1 label.sk-toggleable__label {cursor: pointer;display: block;width: 100%;margin-bottom: 0;padding: 0.3em;box-sizing: border-box;text-align: center;}#sk-container-id-1 label.sk-toggleable__label-arrow:before {content: \"▸\";float: left;margin-right: 0.25em;color: #696969;}#sk-container-id-1 label.sk-toggleable__label-arrow:hover:before {color: black;}#sk-container-id-1 div.sk-estimator:hover label.sk-toggleable__label-arrow:before {color: black;}#sk-container-id-1 div.sk-toggleable__content {max-height: 0;max-width: 0;overflow: hidden;text-align: left;background-color: #f0f8ff;}#sk-container-id-1 div.sk-toggleable__content pre {margin: 0.2em;color: black;border-radius: 0.25em;background-color: #f0f8ff;}#sk-container-id-1 input.sk-toggleable__control:checked~div.sk-toggleable__content {max-height: 200px;max-width: 100%;overflow: auto;}#sk-container-id-1 input.sk-toggleable__control:checked~label.sk-toggleable__label-arrow:before {content: \"▾\";}#sk-container-id-1 div.sk-estimator input.sk-toggleable__control:checked~label.sk-toggleable__label {background-color: #d4ebff;}#sk-container-id-1 div.sk-label input.sk-toggleable__control:checked~label.sk-toggleable__label {background-color: #d4ebff;}#sk-container-id-1 input.sk-hidden--visually {border: 0;clip: rect(1px 1px 1px 1px);clip: rect(1px, 1px, 1px, 1px);height: 1px;margin: -1px;overflow: hidden;padding: 0;position: absolute;width: 1px;}#sk-container-id-1 div.sk-estimator {font-family: monospace;background-color: #f0f8ff;border: 1px dotted black;border-radius: 0.25em;box-sizing: border-box;margin-bottom: 0.5em;}#sk-container-id-1 div.sk-estimator:hover {background-color: #d4ebff;}#sk-container-id-1 div.sk-parallel-item::after {content: \"\";width: 100%;border-bottom: 1px solid gray;flex-grow: 1;}#sk-container-id-1 div.sk-label:hover label.sk-toggleable__label {background-color: #d4ebff;}#sk-container-id-1 div.sk-serial::before {content: \"\";position: absolute;border-left: 1px solid gray;box-sizing: border-box;top: 0;bottom: 0;left: 50%;z-index: 0;}#sk-container-id-1 div.sk-serial {display: flex;flex-direction: column;align-items: center;background-color: white;padding-right: 0.2em;padding-left: 0.2em;position: relative;}#sk-container-id-1 div.sk-item {position: relative;z-index: 1;}#sk-container-id-1 div.sk-parallel {display: flex;align-items: stretch;justify-content: center;background-color: white;position: relative;}#sk-container-id-1 div.sk-item::before, #sk-container-id-1 div.sk-parallel-item::before {content: \"\";position: absolute;border-left: 1px solid gray;box-sizing: border-box;top: 0;bottom: 0;left: 50%;z-index: -1;}#sk-container-id-1 div.sk-parallel-item {display: flex;flex-direction: column;z-index: 1;position: relative;background-color: white;}#sk-container-id-1 div.sk-parallel-item:first-child::after {align-self: flex-end;width: 50%;}#sk-container-id-1 div.sk-parallel-item:last-child::after {align-self: flex-start;width: 50%;}#sk-container-id-1 div.sk-parallel-item:only-child::after {width: 0;}#sk-container-id-1 div.sk-dashed-wrapped {border: 1px dashed gray;margin: 0 0.4em 0.5em 0.4em;box-sizing: border-box;padding-bottom: 0.4em;background-color: white;}#sk-container-id-1 div.sk-label label {font-family: monospace;font-weight: bold;display: inline-block;line-height: 1.2em;}#sk-container-id-1 div.sk-label-container {text-align: center;}#sk-container-id-1 div.sk-container {/* jupyter's `normalize.less` sets `[hidden] { display: none; }` but bootstrap.min.css set `[hidden] { display: none !important; }` so we also need the `!important` here to be able to override the default hidden behavior on the sphinx rendered scikit-learn.org. See: https://github.com/scikit-learn/scikit-learn/issues/21755 */display: inline-block !important;position: relative;}#sk-container-id-1 div.sk-text-repr-fallback {display: none;}</style><div id=\"sk-container-id-1\" class=\"sk-top-container\"><div class=\"sk-text-repr-fallback\"><pre>DecisionTreeClassifier()</pre><b>In a Jupyter environment, please rerun this cell to show the HTML representation or trust the notebook. <br />On GitHub, the HTML representation is unable to render, please try loading this page with nbviewer.org.</b></div><div class=\"sk-container\" hidden><div class=\"sk-item\"><div class=\"sk-estimator sk-toggleable\"><input class=\"sk-toggleable__control sk-hidden--visually\" id=\"sk-estimator-id-1\" type=\"checkbox\" checked><label for=\"sk-estimator-id-1\" class=\"sk-toggleable__label sk-toggleable__label-arrow\">DecisionTreeClassifier</label><div class=\"sk-toggleable__content\"><pre>DecisionTreeClassifier()</pre></div></div></div></div></div>"
      ],
      "text/plain": [
       "DecisionTreeClassifier()"
      ]
     },
     "execution_count": 88,
     "metadata": {},
     "output_type": "execute_result"
    }
   ],
   "source": [
    "# import the class model\n",
    "from sklearn.tree import DecisionTreeClassifier\n",
    "\n",
    "# take an istance\n",
    "decision_tree_model=DecisionTreeClassifier()\n",
    "\n",
    "# fit the model\n",
    "decision_tree_model.fit(X_train,Y_train)"
   ]
  },
  {
   "cell_type": "code",
   "execution_count": 99,
   "metadata": {},
   "outputs": [],
   "source": [
    "# function to evalute the model\n",
    "\n",
    "from sklearn.metrics import accuracy_score,f1_score,classification_report,precision_score,recall_score\n",
    "def evalute_model(model_name,test_input,test_output):\n",
    "    \n",
    "#    predict data using the model \n",
    "    predicted_data=model_name.predict(test_input)\n",
    "    \n",
    "    print('the accuracy secore is :',accuracy_score(predicted_data,test_output))\n",
    "    print('the f1-secore weighted average is :',f1_score(predicted_data,test_output,average='weighted'))\n",
    "    print('the precision weighted average is :',precision_score(predicted_data,test_output,average='weighted'))\n",
    "    print('the recall weighted average is :',recall_score(predicted_data,test_output,average='weighted'))\n",
    "\n",
    "\n",
    "    print('the calssification report is : \\n',classification_report(predicted_data,test_output))\n",
    "\n",
    "    "
   ]
  },
  {
   "cell_type": "code",
   "execution_count": 100,
   "metadata": {},
   "outputs": [
    {
     "name": "stdout",
     "output_type": "stream",
     "text": [
      "the accuracy secore is : 0.7581072036991969\n",
      "the f1-secore weighted average is : 0.7581271252074148\n",
      "the precision weighted average is : 0.7581881565100441\n",
      "the recall weighted average is : 0.7581072036991969\n",
      "the calssification report is : \n",
      "               precision    recall  f1-score   support\n",
      "\n",
      "         SUV       0.77      0.77      0.77     15140\n",
      "         bus       0.50      0.52      0.51        82\n",
      " convertible       0.60      0.61      0.61      1575\n",
      "       coupe       0.69      0.69      0.69      3807\n",
      "   hatchback       0.70      0.70      0.70      3300\n",
      "    mini-van       0.52      0.53      0.53       945\n",
      "     offroad       0.37      0.38      0.37       122\n",
      "       other       0.79      0.78      0.78      4331\n",
      "      pickup       0.80      0.80      0.80      8474\n",
      "       sedan       0.80      0.80      0.80     17132\n",
      "       truck       0.75      0.75      0.75      6952\n",
      "         van       0.68      0.66      0.67      1759\n",
      "       wagon       0.63      0.64      0.64      2125\n",
      "\n",
      "    accuracy                           0.76     65744\n",
      "   macro avg       0.66      0.66      0.66     65744\n",
      "weighted avg       0.76      0.76      0.76     65744\n",
      "\n"
     ]
    }
   ],
   "source": [
    "# evaluation of decision tree model\n",
    "evalute_model(decision_tree_model,X_test,Y_test)\n"
   ]
  },
  {
   "cell_type": "markdown",
   "metadata": {},
   "source": [
    "## naive bayes model"
   ]
  },
  {
   "cell_type": "code",
   "execution_count": 101,
   "metadata": {},
   "outputs": [
    {
     "data": {
      "text/html": [
       "<style>#sk-container-id-2 {color: black;background-color: white;}#sk-container-id-2 pre{padding: 0;}#sk-container-id-2 div.sk-toggleable {background-color: white;}#sk-container-id-2 label.sk-toggleable__label {cursor: pointer;display: block;width: 100%;margin-bottom: 0;padding: 0.3em;box-sizing: border-box;text-align: center;}#sk-container-id-2 label.sk-toggleable__label-arrow:before {content: \"▸\";float: left;margin-right: 0.25em;color: #696969;}#sk-container-id-2 label.sk-toggleable__label-arrow:hover:before {color: black;}#sk-container-id-2 div.sk-estimator:hover label.sk-toggleable__label-arrow:before {color: black;}#sk-container-id-2 div.sk-toggleable__content {max-height: 0;max-width: 0;overflow: hidden;text-align: left;background-color: #f0f8ff;}#sk-container-id-2 div.sk-toggleable__content pre {margin: 0.2em;color: black;border-radius: 0.25em;background-color: #f0f8ff;}#sk-container-id-2 input.sk-toggleable__control:checked~div.sk-toggleable__content {max-height: 200px;max-width: 100%;overflow: auto;}#sk-container-id-2 input.sk-toggleable__control:checked~label.sk-toggleable__label-arrow:before {content: \"▾\";}#sk-container-id-2 div.sk-estimator input.sk-toggleable__control:checked~label.sk-toggleable__label {background-color: #d4ebff;}#sk-container-id-2 div.sk-label input.sk-toggleable__control:checked~label.sk-toggleable__label {background-color: #d4ebff;}#sk-container-id-2 input.sk-hidden--visually {border: 0;clip: rect(1px 1px 1px 1px);clip: rect(1px, 1px, 1px, 1px);height: 1px;margin: -1px;overflow: hidden;padding: 0;position: absolute;width: 1px;}#sk-container-id-2 div.sk-estimator {font-family: monospace;background-color: #f0f8ff;border: 1px dotted black;border-radius: 0.25em;box-sizing: border-box;margin-bottom: 0.5em;}#sk-container-id-2 div.sk-estimator:hover {background-color: #d4ebff;}#sk-container-id-2 div.sk-parallel-item::after {content: \"\";width: 100%;border-bottom: 1px solid gray;flex-grow: 1;}#sk-container-id-2 div.sk-label:hover label.sk-toggleable__label {background-color: #d4ebff;}#sk-container-id-2 div.sk-serial::before {content: \"\";position: absolute;border-left: 1px solid gray;box-sizing: border-box;top: 0;bottom: 0;left: 50%;z-index: 0;}#sk-container-id-2 div.sk-serial {display: flex;flex-direction: column;align-items: center;background-color: white;padding-right: 0.2em;padding-left: 0.2em;position: relative;}#sk-container-id-2 div.sk-item {position: relative;z-index: 1;}#sk-container-id-2 div.sk-parallel {display: flex;align-items: stretch;justify-content: center;background-color: white;position: relative;}#sk-container-id-2 div.sk-item::before, #sk-container-id-2 div.sk-parallel-item::before {content: \"\";position: absolute;border-left: 1px solid gray;box-sizing: border-box;top: 0;bottom: 0;left: 50%;z-index: -1;}#sk-container-id-2 div.sk-parallel-item {display: flex;flex-direction: column;z-index: 1;position: relative;background-color: white;}#sk-container-id-2 div.sk-parallel-item:first-child::after {align-self: flex-end;width: 50%;}#sk-container-id-2 div.sk-parallel-item:last-child::after {align-self: flex-start;width: 50%;}#sk-container-id-2 div.sk-parallel-item:only-child::after {width: 0;}#sk-container-id-2 div.sk-dashed-wrapped {border: 1px dashed gray;margin: 0 0.4em 0.5em 0.4em;box-sizing: border-box;padding-bottom: 0.4em;background-color: white;}#sk-container-id-2 div.sk-label label {font-family: monospace;font-weight: bold;display: inline-block;line-height: 1.2em;}#sk-container-id-2 div.sk-label-container {text-align: center;}#sk-container-id-2 div.sk-container {/* jupyter's `normalize.less` sets `[hidden] { display: none; }` but bootstrap.min.css set `[hidden] { display: none !important; }` so we also need the `!important` here to be able to override the default hidden behavior on the sphinx rendered scikit-learn.org. See: https://github.com/scikit-learn/scikit-learn/issues/21755 */display: inline-block !important;position: relative;}#sk-container-id-2 div.sk-text-repr-fallback {display: none;}</style><div id=\"sk-container-id-2\" class=\"sk-top-container\"><div class=\"sk-text-repr-fallback\"><pre>GaussianNB()</pre><b>In a Jupyter environment, please rerun this cell to show the HTML representation or trust the notebook. <br />On GitHub, the HTML representation is unable to render, please try loading this page with nbviewer.org.</b></div><div class=\"sk-container\" hidden><div class=\"sk-item\"><div class=\"sk-estimator sk-toggleable\"><input class=\"sk-toggleable__control sk-hidden--visually\" id=\"sk-estimator-id-2\" type=\"checkbox\" checked><label for=\"sk-estimator-id-2\" class=\"sk-toggleable__label sk-toggleable__label-arrow\">GaussianNB</label><div class=\"sk-toggleable__content\"><pre>GaussianNB()</pre></div></div></div></div></div>"
      ],
      "text/plain": [
       "GaussianNB()"
      ]
     },
     "execution_count": 101,
     "metadata": {},
     "output_type": "execute_result"
    }
   ],
   "source": [
    "# import the package\n",
    "from sklearn.naive_bayes import GaussianNB\n",
    "\n",
    "# take an instance\n",
    "naive_model=GaussianNB()\n",
    "\n",
    "# fit the model\n",
    "naive_model.fit(X_train,Y_train)"
   ]
  },
  {
   "cell_type": "code",
   "execution_count": 102,
   "metadata": {},
   "outputs": [
    {
     "name": "stdout",
     "output_type": "stream",
     "text": [
      "the accuracy secore is : 0.3740721586760769\n",
      "the f1-secore weighted average is : 0.3746976098954502\n",
      "the precision weighted average is : 0.4528957763886369\n",
      "the recall weighted average is : 0.3740721586760769\n",
      "the calssification report is : \n",
      "               precision    recall  f1-score   support\n",
      "\n",
      "         SUV       0.54      0.46      0.50     17558\n",
      "         bus       0.10      0.06      0.07       157\n",
      " convertible       0.15      0.20      0.18      1207\n",
      "       coupe       0.23      0.43      0.30      2058\n",
      "   hatchback       0.17      0.26      0.20      2150\n",
      "    mini-van       0.70      0.09      0.16      7567\n",
      "     offroad       0.17      0.11      0.14       183\n",
      "       other       0.43      0.21      0.28      8698\n",
      "      pickup       0.18      0.52      0.27      2986\n",
      "       sedan       0.45      0.49      0.47     15977\n",
      "       truck       0.37      0.43      0.40      5907\n",
      "         van       0.15      0.21      0.18      1227\n",
      "       wagon       0.01      0.17      0.01        69\n",
      "\n",
      "    accuracy                           0.37     65744\n",
      "   macro avg       0.28      0.28      0.24     65744\n",
      "weighted avg       0.45      0.37      0.37     65744\n",
      "\n"
     ]
    }
   ],
   "source": [
    "# evaluate the naive bayes model\n",
    "evalute_model(naive_model,X_test,Y_test)"
   ]
  },
  {
   "cell_type": "markdown",
   "metadata": {},
   "source": [
    "## logistic regression model  "
   ]
  },
  {
   "cell_type": "code",
   "execution_count": 103,
   "metadata": {},
   "outputs": [
    {
     "data": {
      "text/html": [
       "<style>#sk-container-id-3 {color: black;background-color: white;}#sk-container-id-3 pre{padding: 0;}#sk-container-id-3 div.sk-toggleable {background-color: white;}#sk-container-id-3 label.sk-toggleable__label {cursor: pointer;display: block;width: 100%;margin-bottom: 0;padding: 0.3em;box-sizing: border-box;text-align: center;}#sk-container-id-3 label.sk-toggleable__label-arrow:before {content: \"▸\";float: left;margin-right: 0.25em;color: #696969;}#sk-container-id-3 label.sk-toggleable__label-arrow:hover:before {color: black;}#sk-container-id-3 div.sk-estimator:hover label.sk-toggleable__label-arrow:before {color: black;}#sk-container-id-3 div.sk-toggleable__content {max-height: 0;max-width: 0;overflow: hidden;text-align: left;background-color: #f0f8ff;}#sk-container-id-3 div.sk-toggleable__content pre {margin: 0.2em;color: black;border-radius: 0.25em;background-color: #f0f8ff;}#sk-container-id-3 input.sk-toggleable__control:checked~div.sk-toggleable__content {max-height: 200px;max-width: 100%;overflow: auto;}#sk-container-id-3 input.sk-toggleable__control:checked~label.sk-toggleable__label-arrow:before {content: \"▾\";}#sk-container-id-3 div.sk-estimator input.sk-toggleable__control:checked~label.sk-toggleable__label {background-color: #d4ebff;}#sk-container-id-3 div.sk-label input.sk-toggleable__control:checked~label.sk-toggleable__label {background-color: #d4ebff;}#sk-container-id-3 input.sk-hidden--visually {border: 0;clip: rect(1px 1px 1px 1px);clip: rect(1px, 1px, 1px, 1px);height: 1px;margin: -1px;overflow: hidden;padding: 0;position: absolute;width: 1px;}#sk-container-id-3 div.sk-estimator {font-family: monospace;background-color: #f0f8ff;border: 1px dotted black;border-radius: 0.25em;box-sizing: border-box;margin-bottom: 0.5em;}#sk-container-id-3 div.sk-estimator:hover {background-color: #d4ebff;}#sk-container-id-3 div.sk-parallel-item::after {content: \"\";width: 100%;border-bottom: 1px solid gray;flex-grow: 1;}#sk-container-id-3 div.sk-label:hover label.sk-toggleable__label {background-color: #d4ebff;}#sk-container-id-3 div.sk-serial::before {content: \"\";position: absolute;border-left: 1px solid gray;box-sizing: border-box;top: 0;bottom: 0;left: 50%;z-index: 0;}#sk-container-id-3 div.sk-serial {display: flex;flex-direction: column;align-items: center;background-color: white;padding-right: 0.2em;padding-left: 0.2em;position: relative;}#sk-container-id-3 div.sk-item {position: relative;z-index: 1;}#sk-container-id-3 div.sk-parallel {display: flex;align-items: stretch;justify-content: center;background-color: white;position: relative;}#sk-container-id-3 div.sk-item::before, #sk-container-id-3 div.sk-parallel-item::before {content: \"\";position: absolute;border-left: 1px solid gray;box-sizing: border-box;top: 0;bottom: 0;left: 50%;z-index: -1;}#sk-container-id-3 div.sk-parallel-item {display: flex;flex-direction: column;z-index: 1;position: relative;background-color: white;}#sk-container-id-3 div.sk-parallel-item:first-child::after {align-self: flex-end;width: 50%;}#sk-container-id-3 div.sk-parallel-item:last-child::after {align-self: flex-start;width: 50%;}#sk-container-id-3 div.sk-parallel-item:only-child::after {width: 0;}#sk-container-id-3 div.sk-dashed-wrapped {border: 1px dashed gray;margin: 0 0.4em 0.5em 0.4em;box-sizing: border-box;padding-bottom: 0.4em;background-color: white;}#sk-container-id-3 div.sk-label label {font-family: monospace;font-weight: bold;display: inline-block;line-height: 1.2em;}#sk-container-id-3 div.sk-label-container {text-align: center;}#sk-container-id-3 div.sk-container {/* jupyter's `normalize.less` sets `[hidden] { display: none; }` but bootstrap.min.css set `[hidden] { display: none !important; }` so we also need the `!important` here to be able to override the default hidden behavior on the sphinx rendered scikit-learn.org. See: https://github.com/scikit-learn/scikit-learn/issues/21755 */display: inline-block !important;position: relative;}#sk-container-id-3 div.sk-text-repr-fallback {display: none;}</style><div id=\"sk-container-id-3\" class=\"sk-top-container\"><div class=\"sk-text-repr-fallback\"><pre>LogisticRegression(max_iter=500, solver=&#x27;sag&#x27;)</pre><b>In a Jupyter environment, please rerun this cell to show the HTML representation or trust the notebook. <br />On GitHub, the HTML representation is unable to render, please try loading this page with nbviewer.org.</b></div><div class=\"sk-container\" hidden><div class=\"sk-item\"><div class=\"sk-estimator sk-toggleable\"><input class=\"sk-toggleable__control sk-hidden--visually\" id=\"sk-estimator-id-3\" type=\"checkbox\" checked><label for=\"sk-estimator-id-3\" class=\"sk-toggleable__label sk-toggleable__label-arrow\">LogisticRegression</label><div class=\"sk-toggleable__content\"><pre>LogisticRegression(max_iter=500, solver=&#x27;sag&#x27;)</pre></div></div></div></div></div>"
      ],
      "text/plain": [
       "LogisticRegression(max_iter=500, solver='sag')"
      ]
     },
     "execution_count": 103,
     "metadata": {},
     "output_type": "execute_result"
    }
   ],
   "source": [
    "# import the class\n",
    "from sklearn.linear_model import LogisticRegression\n",
    "\n",
    "# take an instance\n",
    "logistic_model=LogisticRegression(solver='sag',max_iter=500)\n",
    "\n",
    "# fit the model\n",
    "logistic_model.fit(X_train,Y_train)"
   ]
  },
  {
   "cell_type": "code",
   "execution_count": 105,
   "metadata": {},
   "outputs": [
    {
     "name": "stdout",
     "output_type": "stream",
     "text": [
      "the accuracy secore is : 0.43054879532733026\n",
      "the f1-secore weighted average is : 0.4843518832613572\n",
      "the precision weighted average is : 0.5988593840566037\n"
     ]
    },
    {
     "name": "stderr",
     "output_type": "stream",
     "text": [
      "C:\\Users\\rayan\\AppData\\Roaming\\Python\\Python38\\site-packages\\sklearn\\metrics\\_classification.py:1334: UndefinedMetricWarning: Recall is ill-defined and being set to 0.0 in labels with no true samples. Use `zero_division` parameter to control this behavior.\n",
      "  _warn_prf(average, modifier, msg_start, len(result))\n"
     ]
    },
    {
     "name": "stdout",
     "output_type": "stream",
     "text": [
      "the recall weighted average is : 0.43054879532733026\n"
     ]
    },
    {
     "name": "stderr",
     "output_type": "stream",
     "text": [
      "C:\\Users\\rayan\\AppData\\Roaming\\Python\\Python38\\site-packages\\sklearn\\metrics\\_classification.py:1334: UndefinedMetricWarning: Recall and F-score are ill-defined and being set to 0.0 in labels with no true samples. Use `zero_division` parameter to control this behavior.\n",
      "  _warn_prf(average, modifier, msg_start, len(result))\n",
      "C:\\Users\\rayan\\AppData\\Roaming\\Python\\Python38\\site-packages\\sklearn\\metrics\\_classification.py:1334: UndefinedMetricWarning: Recall and F-score are ill-defined and being set to 0.0 in labels with no true samples. Use `zero_division` parameter to control this behavior.\n",
      "  _warn_prf(average, modifier, msg_start, len(result))\n"
     ]
    },
    {
     "name": "stdout",
     "output_type": "stream",
     "text": [
      "the calssification report is : \n",
      "               precision    recall  f1-score   support\n",
      "\n",
      "         SUV       0.55      0.46      0.50     17969\n",
      "         bus       0.00      0.00      0.00         0\n",
      " convertible       0.00      1.00      0.00         1\n",
      "       coupe       0.27      0.42      0.33      2469\n",
      "   hatchback       0.03      0.25      0.06       403\n",
      "    mini-van       0.00      0.00      0.00         1\n",
      "     offroad       0.00      0.00      0.00         0\n",
      "       other       0.08      0.27      0.13      1315\n",
      "      pickup       0.29      0.38      0.33      6421\n",
      "       sedan       0.78      0.42      0.55     31946\n",
      "       truck       0.36      0.48      0.41      5130\n",
      "         van       0.01      0.22      0.02        87\n",
      "       wagon       0.00      0.00      0.00         2\n",
      "\n",
      "    accuracy                           0.43     65744\n",
      "   macro avg       0.18      0.30      0.18     65744\n",
      "weighted avg       0.60      0.43      0.48     65744\n",
      "\n"
     ]
    },
    {
     "name": "stderr",
     "output_type": "stream",
     "text": [
      "C:\\Users\\rayan\\AppData\\Roaming\\Python\\Python38\\site-packages\\sklearn\\metrics\\_classification.py:1334: UndefinedMetricWarning: Recall and F-score are ill-defined and being set to 0.0 in labels with no true samples. Use `zero_division` parameter to control this behavior.\n",
      "  _warn_prf(average, modifier, msg_start, len(result))\n"
     ]
    }
   ],
   "source": [
    "evalute_model(logistic_model,X_test,Y_test)"
   ]
  },
  {
   "cell_type": "markdown",
   "metadata": {},
   "source": [
    "# note:\n",
    "\n",
    "- the warning that apeared in evaluation of the logistic regression beacause there are some values in Y_test didn't appear in the predicted values \n",
    "- so the f-score assigned to zero (like 'bus' or 'wagon')\n",
    "- we can ignore these warninig by the next code\n",
    "- we put the code before the evaluating of logistic  regression"
   ]
  },
  {
   "cell_type": "code",
   "execution_count": 106,
   "metadata": {},
   "outputs": [],
   "source": [
    "import warnings\n",
    "warnings.filterwarnings('ignore')\n"
   ]
  },
  {
   "cell_type": "code",
   "execution_count": null,
   "metadata": {},
   "outputs": [],
   "source": []
  },
  {
   "cell_type": "code",
   "execution_count": 126,
   "metadata": {},
   "outputs": [],
   "source": [
    "# write a function to return the evaluation metrics in one dictionary \n",
    "def evaluation_score(model_name,test_input,test_output,name):\n",
    "    \n",
    "    predicted_data=model_name.predict(test_input)\n",
    "    \n",
    "    name={}\n",
    "    \n",
    "    name['accuracy_score']=accuracy_score(predicted_data,test_output)\n",
    "    \n",
    "    name['f1_score']=f1_score(predicted_data,test_output,average='weighted')\n",
    "    \n",
    "    name['precision_score']=precision_score(predicted_data,test_output,average='weighted')\n",
    "                                            \n",
    "    name['recall_score']=recall_score(predicted_data,test_output,average='weighted')\n",
    "    \n",
    "#     return a dictionary with the name of model contains all of its evaluation metrics\n",
    "    return name\n"
   ]
  },
  {
   "cell_type": "code",
   "execution_count": 123,
   "metadata": {},
   "outputs": [],
   "source": [
    "# dictionary of models and thier names\n",
    "models={'decision_tree':decision_tree_model,\n",
    "         'naive_bayes':naive_model,\n",
    "       'logistic_regression':logistic_model}\n",
    "\n",
    "# create dictionary contains all the models with their evaluation metrics\n",
    "models_scores={}\n",
    "for model in models.keys():\n",
    "    models_scores[model]=evaluation_score(models[model],X_test,Y_test,model)\n"
   ]
  },
  {
   "cell_type": "code",
   "execution_count": 124,
   "metadata": {},
   "outputs": [
    {
     "name": "stdout",
     "output_type": "stream",
     "text": [
      "{'decision_tree': {'accuracy_score': 0.7581072036991969, 'f1_score': 0.7581271252074148, 'precision_score': 0.7581881565100441, 'recall_score': 0.7581072036991969}, 'naive_bayes': {'accuracy_score': 0.3740721586760769, 'f1_score': 0.3746976098954502, 'precision_score': 0.4528957763886369, 'recall_score': 0.3740721586760769}, 'logistic_regression': {'accuracy_score': 0.43054879532733026, 'f1_score': 0.4843518832613572, 'precision_score': 0.5988593840566037, 'recall_score': 0.43054879532733026}}\n"
     ]
    }
   ],
   "source": [
    "\n",
    "print(models_scores)    "
   ]
  },
  {
   "cell_type": "code",
   "execution_count": 125,
   "metadata": {},
   "outputs": [
    {
     "data": {
      "text/html": [
       "<div>\n",
       "<style scoped>\n",
       "    .dataframe tbody tr th:only-of-type {\n",
       "        vertical-align: middle;\n",
       "    }\n",
       "\n",
       "    .dataframe tbody tr th {\n",
       "        vertical-align: top;\n",
       "    }\n",
       "\n",
       "    .dataframe thead th {\n",
       "        text-align: right;\n",
       "    }\n",
       "</style>\n",
       "<table border=\"1\" class=\"dataframe\">\n",
       "  <thead>\n",
       "    <tr style=\"text-align: right;\">\n",
       "      <th></th>\n",
       "      <th>decision_tree</th>\n",
       "      <th>naive_bayes</th>\n",
       "      <th>logistic_regression</th>\n",
       "    </tr>\n",
       "  </thead>\n",
       "  <tbody>\n",
       "    <tr>\n",
       "      <th>accuracy_score</th>\n",
       "      <td>0.758107</td>\n",
       "      <td>0.374072</td>\n",
       "      <td>0.430549</td>\n",
       "    </tr>\n",
       "    <tr>\n",
       "      <th>f1_score</th>\n",
       "      <td>0.758127</td>\n",
       "      <td>0.374698</td>\n",
       "      <td>0.484352</td>\n",
       "    </tr>\n",
       "    <tr>\n",
       "      <th>precision_score</th>\n",
       "      <td>0.758188</td>\n",
       "      <td>0.452896</td>\n",
       "      <td>0.598859</td>\n",
       "    </tr>\n",
       "    <tr>\n",
       "      <th>recall_score</th>\n",
       "      <td>0.758107</td>\n",
       "      <td>0.374072</td>\n",
       "      <td>0.430549</td>\n",
       "    </tr>\n",
       "  </tbody>\n",
       "</table>\n",
       "</div>"
      ],
      "text/plain": [
       "                 decision_tree  naive_bayes  logistic_regression\n",
       "accuracy_score        0.758107     0.374072             0.430549\n",
       "f1_score              0.758127     0.374698             0.484352\n",
       "precision_score       0.758188     0.452896             0.598859\n",
       "recall_score          0.758107     0.374072             0.430549"
      ]
     },
     "execution_count": 125,
     "metadata": {},
     "output_type": "execute_result"
    }
   ],
   "source": [
    "# convert the models_score dictionary to dataframe\n",
    "models_score_dataframe=pd.DataFrame(models_scores)\n"
   ]
  },
  {
   "cell_type": "code",
   "execution_count": 127,
   "metadata": {},
   "outputs": [
    {
     "data": {
      "text/html": [
       "<div>\n",
       "<style scoped>\n",
       "    .dataframe tbody tr th:only-of-type {\n",
       "        vertical-align: middle;\n",
       "    }\n",
       "\n",
       "    .dataframe tbody tr th {\n",
       "        vertical-align: top;\n",
       "    }\n",
       "\n",
       "    .dataframe thead th {\n",
       "        text-align: right;\n",
       "    }\n",
       "</style>\n",
       "<table border=\"1\" class=\"dataframe\">\n",
       "  <thead>\n",
       "    <tr style=\"text-align: right;\">\n",
       "      <th></th>\n",
       "      <th>decision_tree</th>\n",
       "      <th>naive_bayes</th>\n",
       "      <th>logistic_regression</th>\n",
       "    </tr>\n",
       "  </thead>\n",
       "  <tbody>\n",
       "    <tr>\n",
       "      <th>accuracy_score</th>\n",
       "      <td>0.758107</td>\n",
       "      <td>0.374072</td>\n",
       "      <td>0.430549</td>\n",
       "    </tr>\n",
       "    <tr>\n",
       "      <th>f1_score</th>\n",
       "      <td>0.758127</td>\n",
       "      <td>0.374698</td>\n",
       "      <td>0.484352</td>\n",
       "    </tr>\n",
       "    <tr>\n",
       "      <th>precision_score</th>\n",
       "      <td>0.758188</td>\n",
       "      <td>0.452896</td>\n",
       "      <td>0.598859</td>\n",
       "    </tr>\n",
       "    <tr>\n",
       "      <th>recall_score</th>\n",
       "      <td>0.758107</td>\n",
       "      <td>0.374072</td>\n",
       "      <td>0.430549</td>\n",
       "    </tr>\n",
       "  </tbody>\n",
       "</table>\n",
       "</div>"
      ],
      "text/plain": [
       "                 decision_tree  naive_bayes  logistic_regression\n",
       "accuracy_score        0.758107     0.374072             0.430549\n",
       "f1_score              0.758127     0.374698             0.484352\n",
       "precision_score       0.758188     0.452896             0.598859\n",
       "recall_score          0.758107     0.374072             0.430549"
      ]
     },
     "execution_count": 127,
     "metadata": {},
     "output_type": "execute_result"
    }
   ],
   "source": [
    "# view all the scores in one dataframe\n",
    "models_score_dataframe"
   ]
  },
  {
   "cell_type": "markdown",
   "metadata": {},
   "source": [
    "#                                               The Result\n",
    "\n",
    "- as we can see that the decision tree is the best model due to the evaluation metrics.\n",
    "\n",
    "### how can we get better result ? \n",
    "\n",
    "- collect better data and try to get features that can be very effective in classificaton of cars types\n",
    "- dive into data and concentrate more on data preprocessing\n",
    "- try another algorithms\n",
    "- apply statistical test to determine the best feature which has high degree of correlation with the output\n",
    "- try another techniques  of regularization and normalization to avoid overfitting\n",
    "- try polynomial features to make new feature if we have underfitting\n"
   ]
  },
  {
   "cell_type": "code",
   "execution_count": null,
   "metadata": {},
   "outputs": [],
   "source": []
  }
 ],
 "metadata": {
  "kernelspec": {
   "display_name": "Python 3",
   "language": "python",
   "name": "python3"
  },
  "language_info": {
   "codemirror_mode": {
    "name": "ipython",
    "version": 3
   },
   "file_extension": ".py",
   "mimetype": "text/x-python",
   "name": "python",
   "nbconvert_exporter": "python",
   "pygments_lexer": "ipython3",
   "version": "3.8.3"
  }
 },
 "nbformat": 4,
 "nbformat_minor": 4
}
